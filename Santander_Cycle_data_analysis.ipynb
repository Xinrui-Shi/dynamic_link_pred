{
  "nbformat": 4,
  "nbformat_minor": 0,
  "metadata": {
    "kernelspec": {
      "display_name": "Python 3",
      "language": "python",
      "name": "python3"
    },
    "language_info": {
      "codemirror_mode": {
        "name": "ipython",
        "version": 3
      },
      "file_extension": ".py",
      "mimetype": "text/x-python",
      "name": "python",
      "nbconvert_exporter": "python",
      "pygments_lexer": "ipython3",
      "version": "3.8.3"
    },
    "colab": {
      "name": "Santander Cycle data analysis.ipynb",
      "provenance": [],
      "collapsed_sections": []
    },
    "accelerator": "GPU"
  },
  "cells": [
    {
      "cell_type": "code",
      "metadata": {
        "colab": {
          "base_uri": "https://localhost:8080/"
        },
        "id": "kCMAmIRvC3Fo",
        "outputId": "90584dd9-1582-4d96-a19f-9af792fab2b4"
      },
      "source": [
        "from google.colab import drive\n",
        "drive.mount('/content/drive')"
      ],
      "execution_count": null,
      "outputs": [
        {
          "output_type": "stream",
          "name": "stdout",
          "text": [
            "Mounted at /content/drive\n"
          ]
        }
      ]
    },
    {
      "cell_type": "code",
      "metadata": {
        "colab": {
          "base_uri": "https://localhost:8080/"
        },
        "id": "co_uVO1oEeuY",
        "outputId": "f977bb87-4d35-4aa7-be56-8231a0793a4a"
      },
      "source": [
        "%cd /content/drive/My Drive/Colab_data"
      ],
      "execution_count": null,
      "outputs": [
        {
          "output_type": "stream",
          "name": "stdout",
          "text": [
            "/content/drive/My Drive/Colab_data\n"
          ]
        }
      ]
    },
    {
      "cell_type": "code",
      "metadata": {
        "id": "6VQoVs7MwM1s",
        "colab": {
          "resources": {
            "http://localhost:8080/nbextensions/google.colab/files.js": {
              "data": "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",
              "ok": true,
              "headers": [
                [
                  "content-type",
                  "application/javascript"
                ]
              ],
              "status": 200,
              "status_text": ""
            }
          },
          "base_uri": "https://localhost:8080/",
          "height": 76
        },
        "outputId": "95a385c4-0dc3-434e-d4a3-38030d1ef90f"
      },
      "source": [
        "from google.colab import files \n",
        "uploaded = files.upload()"
      ],
      "execution_count": null,
      "outputs": [
        {
          "output_type": "display_data",
          "data": {
            "text/html": [
              "\n",
              "     <input type=\"file\" id=\"files-7f4753bf-84c5-4a57-bddb-87b04c6113ed\" name=\"files[]\" multiple disabled\n",
              "        style=\"border:none\" />\n",
              "     <output id=\"result-7f4753bf-84c5-4a57-bddb-87b04c6113ed\">\n",
              "      Upload widget is only available when the cell has been executed in the\n",
              "      current browser session. Please rerun this cell to enable.\n",
              "      </output>\n",
              "      <script src=\"/nbextensions/google.colab/files.js\"></script> "
            ],
            "text/plain": [
              "<IPython.core.display.HTML object>"
            ]
          },
          "metadata": {}
        },
        {
          "output_type": "stream",
          "name": "stdout",
          "text": [
            "Saving lanl_function.py to lanl_function (9).py\n"
          ]
        }
      ]
    },
    {
      "cell_type": "code",
      "metadata": {
        "id": "RtrS4TOLwRDi",
        "colab": {
          "base_uri": "https://localhost:8080/"
        },
        "outputId": "2e988f16-9634-4cad-ab55-85f72caa5427"
      },
      "source": [
        "pip install stellargraph"
      ],
      "execution_count": null,
      "outputs": [
        {
          "output_type": "stream",
          "name": "stdout",
          "text": [
            "Collecting stellargraph\n",
            "  Downloading stellargraph-1.2.1-py3-none-any.whl (435 kB)\n",
            "\u001b[?25l\r\u001b[K     |▊                               | 10 kB 32.8 MB/s eta 0:00:01\r\u001b[K     |█▌                              | 20 kB 34.7 MB/s eta 0:00:01\r\u001b[K     |██▎                             | 30 kB 19.3 MB/s eta 0:00:01\r\u001b[K     |███                             | 40 kB 16.1 MB/s eta 0:00:01\r\u001b[K     |███▊                            | 51 kB 9.2 MB/s eta 0:00:01\r\u001b[K     |████▌                           | 61 kB 8.7 MB/s eta 0:00:01\r\u001b[K     |█████▎                          | 71 kB 8.5 MB/s eta 0:00:01\r\u001b[K     |██████                          | 81 kB 9.5 MB/s eta 0:00:01\r\u001b[K     |██████▊                         | 92 kB 9.8 MB/s eta 0:00:01\r\u001b[K     |███████▌                        | 102 kB 8.7 MB/s eta 0:00:01\r\u001b[K     |████████▎                       | 112 kB 8.7 MB/s eta 0:00:01\r\u001b[K     |█████████                       | 122 kB 8.7 MB/s eta 0:00:01\r\u001b[K     |█████████▉                      | 133 kB 8.7 MB/s eta 0:00:01\r\u001b[K     |██████████▌                     | 143 kB 8.7 MB/s eta 0:00:01\r\u001b[K     |███████████▎                    | 153 kB 8.7 MB/s eta 0:00:01\r\u001b[K     |████████████                    | 163 kB 8.7 MB/s eta 0:00:01\r\u001b[K     |████████████▉                   | 174 kB 8.7 MB/s eta 0:00:01\r\u001b[K     |█████████████▌                  | 184 kB 8.7 MB/s eta 0:00:01\r\u001b[K     |██████████████▎                 | 194 kB 8.7 MB/s eta 0:00:01\r\u001b[K     |███████████████                 | 204 kB 8.7 MB/s eta 0:00:01\r\u001b[K     |███████████████▉                | 215 kB 8.7 MB/s eta 0:00:01\r\u001b[K     |████████████████▋               | 225 kB 8.7 MB/s eta 0:00:01\r\u001b[K     |█████████████████▎              | 235 kB 8.7 MB/s eta 0:00:01\r\u001b[K     |██████████████████              | 245 kB 8.7 MB/s eta 0:00:01\r\u001b[K     |██████████████████▉             | 256 kB 8.7 MB/s eta 0:00:01\r\u001b[K     |███████████████████▋            | 266 kB 8.7 MB/s eta 0:00:01\r\u001b[K     |████████████████████▎           | 276 kB 8.7 MB/s eta 0:00:01\r\u001b[K     |█████████████████████           | 286 kB 8.7 MB/s eta 0:00:01\r\u001b[K     |█████████████████████▉          | 296 kB 8.7 MB/s eta 0:00:01\r\u001b[K     |██████████████████████▋         | 307 kB 8.7 MB/s eta 0:00:01\r\u001b[K     |███████████████████████▍        | 317 kB 8.7 MB/s eta 0:00:01\r\u001b[K     |████████████████████████        | 327 kB 8.7 MB/s eta 0:00:01\r\u001b[K     |████████████████████████▉       | 337 kB 8.7 MB/s eta 0:00:01\r\u001b[K     |█████████████████████████▋      | 348 kB 8.7 MB/s eta 0:00:01\r\u001b[K     |██████████████████████████▍     | 358 kB 8.7 MB/s eta 0:00:01\r\u001b[K     |███████████████████████████     | 368 kB 8.7 MB/s eta 0:00:01\r\u001b[K     |███████████████████████████▉    | 378 kB 8.7 MB/s eta 0:00:01\r\u001b[K     |████████████████████████████▋   | 389 kB 8.7 MB/s eta 0:00:01\r\u001b[K     |█████████████████████████████▍  | 399 kB 8.7 MB/s eta 0:00:01\r\u001b[K     |██████████████████████████████▏ | 409 kB 8.7 MB/s eta 0:00:01\r\u001b[K     |██████████████████████████████▉ | 419 kB 8.7 MB/s eta 0:00:01\r\u001b[K     |███████████████████████████████▋| 430 kB 8.7 MB/s eta 0:00:01\r\u001b[K     |████████████████████████████████| 435 kB 8.7 MB/s \n",
            "\u001b[?25hRequirement already satisfied: matplotlib>=2.2 in /usr/local/lib/python3.7/dist-packages (from stellargraph) (3.2.2)\n",
            "Requirement already satisfied: scikit-learn>=0.20 in /usr/local/lib/python3.7/dist-packages (from stellargraph) (0.22.2.post1)\n",
            "Requirement already satisfied: tensorflow>=2.1.0 in /usr/local/lib/python3.7/dist-packages (from stellargraph) (2.6.0)\n",
            "Requirement already satisfied: gensim>=3.4.0 in /usr/local/lib/python3.7/dist-packages (from stellargraph) (3.6.0)\n",
            "Requirement already satisfied: scipy>=1.1.0 in /usr/local/lib/python3.7/dist-packages (from stellargraph) (1.4.1)\n",
            "Requirement already satisfied: networkx>=2.2 in /usr/local/lib/python3.7/dist-packages (from stellargraph) (2.6.2)\n",
            "Requirement already satisfied: numpy>=1.14 in /usr/local/lib/python3.7/dist-packages (from stellargraph) (1.19.5)\n",
            "Requirement already satisfied: pandas>=0.24 in /usr/local/lib/python3.7/dist-packages (from stellargraph) (1.1.5)\n",
            "Requirement already satisfied: six>=1.5.0 in /usr/local/lib/python3.7/dist-packages (from gensim>=3.4.0->stellargraph) (1.15.0)\n",
            "Requirement already satisfied: smart-open>=1.2.1 in /usr/local/lib/python3.7/dist-packages (from gensim>=3.4.0->stellargraph) (5.1.0)\n",
            "Requirement already satisfied: pyparsing!=2.0.4,!=2.1.2,!=2.1.6,>=2.0.1 in /usr/local/lib/python3.7/dist-packages (from matplotlib>=2.2->stellargraph) (2.4.7)\n",
            "Requirement already satisfied: python-dateutil>=2.1 in /usr/local/lib/python3.7/dist-packages (from matplotlib>=2.2->stellargraph) (2.8.2)\n",
            "Requirement already satisfied: kiwisolver>=1.0.1 in /usr/local/lib/python3.7/dist-packages (from matplotlib>=2.2->stellargraph) (1.3.1)\n",
            "Requirement already satisfied: cycler>=0.10 in /usr/local/lib/python3.7/dist-packages (from matplotlib>=2.2->stellargraph) (0.10.0)\n",
            "Requirement already satisfied: pytz>=2017.2 in /usr/local/lib/python3.7/dist-packages (from pandas>=0.24->stellargraph) (2018.9)\n",
            "Requirement already satisfied: joblib>=0.11 in /usr/local/lib/python3.7/dist-packages (from scikit-learn>=0.20->stellargraph) (1.0.1)\n",
            "Requirement already satisfied: flatbuffers~=1.12.0 in /usr/local/lib/python3.7/dist-packages (from tensorflow>=2.1.0->stellargraph) (1.12)\n",
            "Requirement already satisfied: wheel~=0.35 in /usr/local/lib/python3.7/dist-packages (from tensorflow>=2.1.0->stellargraph) (0.37.0)\n",
            "Requirement already satisfied: termcolor~=1.1.0 in /usr/local/lib/python3.7/dist-packages (from tensorflow>=2.1.0->stellargraph) (1.1.0)\n",
            "Requirement already satisfied: tensorboard~=2.6 in /usr/local/lib/python3.7/dist-packages (from tensorflow>=2.1.0->stellargraph) (2.6.0)\n",
            "Requirement already satisfied: protobuf>=3.9.2 in /usr/local/lib/python3.7/dist-packages (from tensorflow>=2.1.0->stellargraph) (3.17.3)\n",
            "Requirement already satisfied: typing-extensions~=3.7.4 in /usr/local/lib/python3.7/dist-packages (from tensorflow>=2.1.0->stellargraph) (3.7.4.3)\n",
            "Requirement already satisfied: grpcio<2.0,>=1.37.0 in /usr/local/lib/python3.7/dist-packages (from tensorflow>=2.1.0->stellargraph) (1.39.0)\n",
            "Requirement already satisfied: astunparse~=1.6.3 in /usr/local/lib/python3.7/dist-packages (from tensorflow>=2.1.0->stellargraph) (1.6.3)\n",
            "Requirement already satisfied: h5py~=3.1.0 in /usr/local/lib/python3.7/dist-packages (from tensorflow>=2.1.0->stellargraph) (3.1.0)\n",
            "Requirement already satisfied: google-pasta~=0.2 in /usr/local/lib/python3.7/dist-packages (from tensorflow>=2.1.0->stellargraph) (0.2.0)\n",
            "Requirement already satisfied: absl-py~=0.10 in /usr/local/lib/python3.7/dist-packages (from tensorflow>=2.1.0->stellargraph) (0.12.0)\n",
            "Requirement already satisfied: opt-einsum~=3.3.0 in /usr/local/lib/python3.7/dist-packages (from tensorflow>=2.1.0->stellargraph) (3.3.0)\n",
            "Requirement already satisfied: gast==0.4.0 in /usr/local/lib/python3.7/dist-packages (from tensorflow>=2.1.0->stellargraph) (0.4.0)\n",
            "Requirement already satisfied: keras~=2.6 in /usr/local/lib/python3.7/dist-packages (from tensorflow>=2.1.0->stellargraph) (2.6.0)\n",
            "Requirement already satisfied: keras-preprocessing~=1.1.2 in /usr/local/lib/python3.7/dist-packages (from tensorflow>=2.1.0->stellargraph) (1.1.2)\n",
            "Requirement already satisfied: wrapt~=1.12.1 in /usr/local/lib/python3.7/dist-packages (from tensorflow>=2.1.0->stellargraph) (1.12.1)\n",
            "Requirement already satisfied: tensorflow-estimator~=2.6 in /usr/local/lib/python3.7/dist-packages (from tensorflow>=2.1.0->stellargraph) (2.6.0)\n",
            "Requirement already satisfied: clang~=5.0 in /usr/local/lib/python3.7/dist-packages (from tensorflow>=2.1.0->stellargraph) (5.0)\n",
            "Requirement already satisfied: cached-property in /usr/local/lib/python3.7/dist-packages (from h5py~=3.1.0->tensorflow>=2.1.0->stellargraph) (1.5.2)\n",
            "Requirement already satisfied: tensorboard-data-server<0.7.0,>=0.6.0 in /usr/local/lib/python3.7/dist-packages (from tensorboard~=2.6->tensorflow>=2.1.0->stellargraph) (0.6.1)\n",
            "Requirement already satisfied: tensorboard-plugin-wit>=1.6.0 in /usr/local/lib/python3.7/dist-packages (from tensorboard~=2.6->tensorflow>=2.1.0->stellargraph) (1.8.0)\n",
            "Requirement already satisfied: google-auth<2,>=1.6.3 in /usr/local/lib/python3.7/dist-packages (from tensorboard~=2.6->tensorflow>=2.1.0->stellargraph) (1.34.0)\n",
            "Requirement already satisfied: markdown>=2.6.8 in /usr/local/lib/python3.7/dist-packages (from tensorboard~=2.6->tensorflow>=2.1.0->stellargraph) (3.3.4)\n",
            "Requirement already satisfied: google-auth-oauthlib<0.5,>=0.4.1 in /usr/local/lib/python3.7/dist-packages (from tensorboard~=2.6->tensorflow>=2.1.0->stellargraph) (0.4.5)\n",
            "Requirement already satisfied: werkzeug>=0.11.15 in /usr/local/lib/python3.7/dist-packages (from tensorboard~=2.6->tensorflow>=2.1.0->stellargraph) (1.0.1)\n",
            "Requirement already satisfied: requests<3,>=2.21.0 in /usr/local/lib/python3.7/dist-packages (from tensorboard~=2.6->tensorflow>=2.1.0->stellargraph) (2.23.0)\n",
            "Requirement already satisfied: setuptools>=41.0.0 in /usr/local/lib/python3.7/dist-packages (from tensorboard~=2.6->tensorflow>=2.1.0->stellargraph) (57.4.0)\n",
            "Requirement already satisfied: cachetools<5.0,>=2.0.0 in /usr/local/lib/python3.7/dist-packages (from google-auth<2,>=1.6.3->tensorboard~=2.6->tensorflow>=2.1.0->stellargraph) (4.2.2)\n",
            "Requirement already satisfied: pyasn1-modules>=0.2.1 in /usr/local/lib/python3.7/dist-packages (from google-auth<2,>=1.6.3->tensorboard~=2.6->tensorflow>=2.1.0->stellargraph) (0.2.8)\n",
            "Requirement already satisfied: rsa<5,>=3.1.4 in /usr/local/lib/python3.7/dist-packages (from google-auth<2,>=1.6.3->tensorboard~=2.6->tensorflow>=2.1.0->stellargraph) (4.7.2)\n",
            "Requirement already satisfied: requests-oauthlib>=0.7.0 in /usr/local/lib/python3.7/dist-packages (from google-auth-oauthlib<0.5,>=0.4.1->tensorboard~=2.6->tensorflow>=2.1.0->stellargraph) (1.3.0)\n",
            "Requirement already satisfied: importlib-metadata in /usr/local/lib/python3.7/dist-packages (from markdown>=2.6.8->tensorboard~=2.6->tensorflow>=2.1.0->stellargraph) (4.6.4)\n",
            "Requirement already satisfied: pyasn1<0.5.0,>=0.4.6 in /usr/local/lib/python3.7/dist-packages (from pyasn1-modules>=0.2.1->google-auth<2,>=1.6.3->tensorboard~=2.6->tensorflow>=2.1.0->stellargraph) (0.4.8)\n",
            "Requirement already satisfied: idna<3,>=2.5 in /usr/local/lib/python3.7/dist-packages (from requests<3,>=2.21.0->tensorboard~=2.6->tensorflow>=2.1.0->stellargraph) (2.10)\n",
            "Requirement already satisfied: urllib3!=1.25.0,!=1.25.1,<1.26,>=1.21.1 in /usr/local/lib/python3.7/dist-packages (from requests<3,>=2.21.0->tensorboard~=2.6->tensorflow>=2.1.0->stellargraph) (1.24.3)\n",
            "Requirement already satisfied: chardet<4,>=3.0.2 in /usr/local/lib/python3.7/dist-packages (from requests<3,>=2.21.0->tensorboard~=2.6->tensorflow>=2.1.0->stellargraph) (3.0.4)\n",
            "Requirement already satisfied: certifi>=2017.4.17 in /usr/local/lib/python3.7/dist-packages (from requests<3,>=2.21.0->tensorboard~=2.6->tensorflow>=2.1.0->stellargraph) (2021.5.30)\n",
            "Requirement already satisfied: oauthlib>=3.0.0 in /usr/local/lib/python3.7/dist-packages (from requests-oauthlib>=0.7.0->google-auth-oauthlib<0.5,>=0.4.1->tensorboard~=2.6->tensorflow>=2.1.0->stellargraph) (3.1.1)\n",
            "Requirement already satisfied: zipp>=0.5 in /usr/local/lib/python3.7/dist-packages (from importlib-metadata->markdown>=2.6.8->tensorboard~=2.6->tensorflow>=2.1.0->stellargraph) (3.5.0)\n",
            "Installing collected packages: stellargraph\n",
            "Successfully installed stellargraph-1.2.1\n"
          ]
        }
      ]
    },
    {
      "cell_type": "code",
      "metadata": {
        "id": "4_aT-_6CyeJD",
        "colab": {
          "base_uri": "https://localhost:8080/"
        },
        "outputId": "15287488-5ae5-46a8-d6dd-536f89652a92"
      },
      "source": [
        "pip install node2vec"
      ],
      "execution_count": null,
      "outputs": [
        {
          "output_type": "stream",
          "name": "stdout",
          "text": [
            "Collecting node2vec\n",
            "  Downloading node2vec-0.4.3.tar.gz (4.6 kB)\n",
            "Requirement already satisfied: networkx in /usr/local/lib/python3.7/dist-packages (from node2vec) (2.6.2)\n",
            "Requirement already satisfied: gensim in /usr/local/lib/python3.7/dist-packages (from node2vec) (3.6.0)\n",
            "Requirement already satisfied: numpy in /usr/local/lib/python3.7/dist-packages (from node2vec) (1.19.5)\n",
            "Requirement already satisfied: tqdm in /usr/local/lib/python3.7/dist-packages (from node2vec) (4.62.0)\n",
            "Requirement already satisfied: joblib>=0.13.2 in /usr/local/lib/python3.7/dist-packages (from node2vec) (1.0.1)\n",
            "Requirement already satisfied: smart-open>=1.2.1 in /usr/local/lib/python3.7/dist-packages (from gensim->node2vec) (5.1.0)\n",
            "Requirement already satisfied: scipy>=0.18.1 in /usr/local/lib/python3.7/dist-packages (from gensim->node2vec) (1.4.1)\n",
            "Requirement already satisfied: six>=1.5.0 in /usr/local/lib/python3.7/dist-packages (from gensim->node2vec) (1.15.0)\n",
            "Building wheels for collected packages: node2vec\n",
            "  Building wheel for node2vec (setup.py) ... \u001b[?25l\u001b[?25hdone\n",
            "  Created wheel for node2vec: filename=node2vec-0.4.3-py3-none-any.whl size=5978 sha256=f14c8581ded0b4b74963565b4b2c9a5e08ce413672a3cbb0c76bc5aa5d4d0613\n",
            "  Stored in directory: /root/.cache/pip/wheels/07/62/78/5202cb8c03cbf1593b48a8a442fca8ceec2a8c80e22318bae9\n",
            "Successfully built node2vec\n",
            "Installing collected packages: node2vec\n",
            "Successfully installed node2vec-0.4.3\n"
          ]
        }
      ]
    },
    {
      "cell_type": "code",
      "metadata": {
        "id": "iwxAoGkYFQPl"
      },
      "source": [
        "import lanl_function as lanl"
      ],
      "execution_count": null,
      "outputs": []
    },
    {
      "cell_type": "code",
      "metadata": {
        "id": "m05OpZK_RCHY"
      },
      "source": [
        "import numpy as np\n",
        "import pandas as pd\n",
        "import matplotlib.pyplot as plt\n",
        "import networkx as nx\n",
        "import tensorflow as tf\n",
        "import stellargraph as sg\n",
        "from collections import Counter\n",
        "from node2vec import Node2Vec\n",
        "import os\n",
        "os.environ['KMP_DUPLICATE_LIB_OK']='True'"
      ],
      "execution_count": null,
      "outputs": []
    },
    {
      "cell_type": "code",
      "metadata": {
        "id": "6VkEWqhNRCHk"
      },
      "source": [
        "from stellargraph.data import EdgeSplitter\n",
        "from stellargraph.mapper import GraphSAGELinkGenerator\n",
        "from stellargraph.layer import GraphSAGE, link_classification\n",
        "from stellargraph.data import UniformRandomWalk\n",
        "from stellargraph.data import UnsupervisedSampler\n",
        "from stellargraph.mapper import GraphSAGENodeGenerator\n",
        "from tensorflow import keras"
      ],
      "execution_count": null,
      "outputs": []
    },
    {
      "cell_type": "code",
      "metadata": {
        "id": "WUt1bOLxIu6-"
      },
      "source": [
        "from stellargraph.mapper import FullBatchNodeGenerator, CorruptedGenerator\n",
        "from stellargraph.layer import GCN, DeepGraphInfomax\n",
        "\n",
        "from tensorflow.keras.optimizers import Adam\n",
        "from tensorflow.keras.callbacks import EarlyStopping\n",
        "from tensorflow.keras import Model"
      ],
      "execution_count": null,
      "outputs": []
    },
    {
      "cell_type": "code",
      "metadata": {
        "id": "buotWEsNCmgb"
      },
      "source": [
        "from sklearn.metrics import roc_auc_score\n",
        "from sklearn.linear_model import LinearRegression\n",
        "from sklearn.linear_model import LogisticRegression"
      ],
      "execution_count": null,
      "outputs": []
    },
    {
      "cell_type": "markdown",
      "metadata": {
        "id": "aQmkdiM1RCHb"
      },
      "source": [
        "# Load Data Set: Santander Cycle"
      ]
    },
    {
      "cell_type": "markdown",
      "metadata": {
        "id": "owoFlJYwY_h2"
      },
      "source": [
        "### weekly dataset"
      ]
    },
    {
      "cell_type": "code",
      "metadata": {
        "id": "KQMCBbMGRCHb"
      },
      "source": [
        "# load data as pandas data frames\n",
        "satander_data = {} #dictionary\n",
        "satander_data[0] = pd.read_csv('satander_data/252_10Feb2021-16Feb2021.csv',header=None)\n",
        "satander_data[1] = pd.read_csv('satander_data/253_17Feb2021-23Feb2021.csv',header=None)\n",
        "satander_data[2] = pd.read_csv('satander_data/254_24Feb2021-02Mar2021.csv',header=None)\n",
        "satander_data[3] = pd.read_csv('satander_data/255_03Mar2021-09Mar2021.csv',header=None)\n",
        "satander_data[4] = pd.read_csv('satander_data/256_10Mar2021-16Mar2021.csv',header=None)\n",
        "satander_data[5] = pd.read_csv('satander_data/257_17Mar2021-23Mar2021.csv',header=None)\n",
        "satander_data[6] = pd.read_csv('satander_data/258_24Mar2021-30Mar2021.csv',header=None)\n",
        "satander_data[7] = pd.read_csv('satander_data/259_31Mar2021-06Apr2021.csv',header=None)\n",
        "satander_data[8]= pd.read_csv('satander_data/260_07Apr2021-13Apr2021.csv',header=None)\n",
        "satander_data[9]= pd.read_csv('satander_data/261_14Apr2021-20Apr2021.csv',header=None)"
      ],
      "execution_count": null,
      "outputs": []
    },
    {
      "cell_type": "code",
      "metadata": {
        "id": "ryUFQZyyNm4b"
      },
      "source": [
        "def counter_A(data,multiple = None,direct=True,min_source=0,min_des=0):\n",
        "    #convert edge information into list\n",
        "    edge_array= np.array(data)\n",
        "\n",
        "    #no threshold, one adjacency matrix\n",
        "    if multiple is None:\n",
        "        A = Counter()\n",
        "        for link in edge_array:\n",
        "            if direct:\n",
        "                A[link[0]-min_source,link[1]-min_des] = 1\n",
        "            else:\n",
        "                A[link[0]-min_source,link[1]-min_des] = 1\n",
        "                A[link[1]-min_des,link[0]-min_source] = 1\n",
        "        return A\n",
        "\n",
        "    #mutiple adjacency matrix\n",
        "    A_t ={}\n",
        "    time_series = np.unique(edge_array[:,2])\n",
        "    \n",
        "    for t in time_series:\n",
        "        A_t[t-np.min(time_series)] = Counter()\n",
        "        \n",
        "    for link in edge_array:\n",
        "        if direct:\n",
        "            A_t[link[2]-np.min(time_series)][link[0]-min_source,link[1]-min_des] = 1\n",
        "        else:\n",
        "            A_t[link[2]-np.min(time_series)][link[0]-min_source,link[1]-min_des] = 1\n",
        "            A_t[link[2]-np.min(time_series)][link[1]-min_des,link[0]-min_source] = 1\n",
        "    return A_t"
      ],
      "execution_count": null,
      "outputs": []
    },
    {
      "cell_type": "code",
      "metadata": {
        "id": "S0MGHB1mRCHc"
      },
      "source": [
        "#construct counter\n",
        "satander_counter = {}\n",
        "for i in range(10):\n",
        "    satander_counter[i] = counter_A(satander_data[i],multiple = None,direct=False,min_source=1,min_des=1)\n",
        "    \n",
        "#dimension (square: 845*845)\n",
        "#construct adjacency matric\n",
        "satander_A_mat = {}\n",
        "for i in range(10):\n",
        "    satander_A_mat[i] = lanl.counter2A(satander_counter[i],m=845,n=845)"
      ],
      "execution_count": null,
      "outputs": []
    },
    {
      "cell_type": "markdown",
      "metadata": {
        "id": "mSWAFVqEZnoz"
      },
      "source": [
        "#### Test for sparsity of adjacency matrix"
      ]
    },
    {
      "cell_type": "code",
      "metadata": {
        "colab": {
          "base_uri": "https://localhost:8080/"
        },
        "id": "a-lMaDqk858x",
        "outputId": "d40e270b-1b7a-4d42-91db-65982c0def3e"
      },
      "source": [
        "#test sparsity: larger than 10% connection\n",
        "for t in range(10):\n",
        "  print(np.sum(satander_A_mat[t])/714025)\n"
      ],
      "execution_count": null,
      "outputs": [
        {
          "output_type": "stream",
          "text": [
            "0.10399775918210147\n",
            "0.14884912993242533\n",
            "0.1685053044361192\n",
            "0.14664472532474354\n",
            "0.13388746892615805\n",
            "0.16365113266342216\n",
            "0.17773887468926158\n",
            "0.1859514722873849\n",
            "0.16776863555197646\n",
            "0.20075207450719512\n"
          ],
          "name": "stdout"
        }
      ]
    },
    {
      "cell_type": "markdown",
      "metadata": {
        "id": "HY6RAZ9nZveN"
      },
      "source": [
        "#### Finding all negative classes"
      ]
    },
    {
      "cell_type": "code",
      "metadata": {
        "id": "vI1T-HFt9Vi6"
      },
      "source": [
        "#find all negative class\n",
        "satander_negative_class = {}\n",
        "for t in range(10):\n",
        "  negative_class = np.zeros((845*845,2))\n",
        "  for i in range(845):\n",
        "    negative_class[845*i:845*(1+i),0] = i*np.ones(845)\n",
        "    negative_class[845*i:845*(1+i),1] = np.linspace(0,844,845)\n",
        "  ## convert into counter\n",
        "  negative_class_counter = Counter()\n",
        "  for pair in list(negative_class):\n",
        "      negative_class_counter[pair[0],pair[1]] = 0\n",
        "  ## Check that the sampled elements effectively correspond to the negative class\n",
        "  negative_class_indices = np.array([pair not in satander_counter[t] for pair in negative_class_counter])\n",
        "  satander_negative_class[t] = negative_class[negative_class_indices]\n"
      ],
      "execution_count": null,
      "outputs": []
    },
    {
      "cell_type": "markdown",
      "metadata": {
        "id": "P9sekp6VZGy1"
      },
      "source": [
        "### Daily dataset"
      ]
    },
    {
      "cell_type": "code",
      "metadata": {
        "id": "0ps3wV-DZIcM"
      },
      "source": [
        "#change dataset as daily \n",
        "for i in range(10):\n",
        "    edge_array= np.array(satander_data[i])\n",
        "    day_idx =np.trunc(edge_array[:,2]/86400).reshape(-1,1)\n",
        "    satander_data2_i = np.hstack((edge_array[:,:2],day_idx))\n",
        "    if i==0:\n",
        "        satander_data2 = satander_data2_i\n",
        "    else:\n",
        "        satander_data2 = np.vstack((satander_data2,satander_data2_i))\n",
        "    \n",
        "\n",
        "satander_data2 = pd.DataFrame(satander_data2)#convert to dataframe\n",
        "\n",
        "#new counter\n",
        "satander_counter2 = counter_A(satander_data2,multiple = True,direct=False,min_source=1,min_des=1)\n",
        "#new adjacency matrices\n",
        "satander_A_mat2 = {}\n",
        "for i in range(70):\n",
        "    satander_A_mat2[i] = lanl.counter2A(satander_counter2[i],m=845,n=845)"
      ],
      "execution_count": null,
      "outputs": []
    },
    {
      "cell_type": "markdown",
      "metadata": {
        "id": "9yUnGV2CaD8c"
      },
      "source": [
        "#### Test for sparsity of adjacency matrix"
      ]
    },
    {
      "cell_type": "code",
      "metadata": {
        "colab": {
          "base_uri": "https://localhost:8080/"
        },
        "id": "jTwM9P1naD8c",
        "outputId": "ba9127c0-daf1-4fcc-dc7a-6841ec749413"
      },
      "source": [
        "#test sparsity\n",
        "ratio = []\n",
        "for t in range(70):\n",
        "  ratio.append(np.sum(satander_A_mat2[t])/714025)\n",
        "\n",
        "print('Maximum ratio is '+str(np.max(ratio)))\n",
        "print('Miniximum ratio is '+str(np.min(ratio)))"
      ],
      "execution_count": null,
      "outputs": [
        {
          "output_type": "stream",
          "text": [
            "Maximum ratio is 0.06695143727460523\n",
            "Miniximum ratio is 0.02195441336087672\n"
          ],
          "name": "stdout"
        }
      ]
    },
    {
      "cell_type": "code",
      "metadata": {
        "id": "dlxzANZ1ryYm",
        "colab": {
          "base_uri": "https://localhost:8080/",
          "height": 295
        },
        "outputId": "d7a6f199-3732-4593-dd43-e224126b59fd"
      },
      "source": [
        "plt.plot(np.linspace(1,70,70),ratio,':o')\n",
        "plt.ylabel('ratio')\n",
        "plt.xlabel('t')\n",
        "plt.title('Sparsity of Adjacency matrix')\n",
        "plt.show()"
      ],
      "execution_count": null,
      "outputs": [
        {
          "output_type": "display_data",
          "data": {
            "image/png": "[encoded data removed]",
            "text/plain": [
              "<Figure size 432x288 with 1 Axes>"
            ]
          },
          "metadata": {
            "needs_background": "light"
          }
        }
      ]
    },
    {
      "cell_type": "markdown",
      "metadata": {
        "id": "Jo6DmVWCPnYl"
      },
      "source": [
        "#### Finding all negative classes"
      ]
    },
    {
      "cell_type": "code",
      "metadata": {
        "id": "bX1C_su7PnYl"
      },
      "source": [
        "#find all negative class\n",
        "satander_negative_class2 = {}\n",
        "for t in range(70):\n",
        "  negative_class = np.zeros((845*845,2))\n",
        "  for i in range(845):\n",
        "    negative_class[845*i:845*(1+i),0] = i*np.ones(845)\n",
        "    negative_class[845*i:845*(1+i),1] = np.linspace(0,844,845)\n",
        "  ## convert into counter\n",
        "  negative_class_counter = Counter()\n",
        "  for pair in list(negative_class):\n",
        "      negative_class_counter[pair[0],pair[1]] = 0\n",
        "  ## Check that the sampled elements effectively correspond to the negative class\n",
        "  negative_class_indices = np.array([pair not in satander_counter2[t] for pair in negative_class_counter])\n",
        "  satander_negative_class2[t] = negative_class[negative_class_indices]\n"
      ],
      "execution_count": null,
      "outputs": []
    },
    {
      "cell_type": "markdown",
      "metadata": {
        "id": "XhoU9Xo0bDBM"
      },
      "source": [
        "# Weekly dataset"
      ]
    },
    {
      "cell_type": "markdown",
      "metadata": {
        "id": "MODXttLedJFQ"
      },
      "source": [
        "## **Unsupervised GraphSAGE**"
      ]
    },
    {
      "cell_type": "markdown",
      "metadata": {
        "id": "gTM5yxIRZTSm"
      },
      "source": [
        "### Procedure of embedding"
      ]
    },
    {
      "cell_type": "code",
      "metadata": {
        "id": "_ya9eu24X_df"
      },
      "source": [
        "np.random.seed(11711)\n",
        "U = {}\n",
        "loss = {}\n",
        "#d=10dimension of embedding"
      ],
      "execution_count": null,
      "outputs": []
    },
    {
      "cell_type": "code",
      "metadata": {
        "id": "LKZ2VOm4RCHk",
        "colab": {
          "base_uri": "https://localhost:8080/",
          "height": 615
        },
        "outputId": "3356d7ec-de49-45c1-a652-c9efd0a1f942"
      },
      "source": [
        "#construct graphs\n",
        "attr = pd.DataFrame(np.diag(np.ones(845)), index=list(range(845)))\n",
        "for t in range(1,9):\n",
        "    print('Graph: ' + str(t+1))\n",
        "    G = sg.StellarGraph.from_networkx(nx.from_scipy_sparse_matrix(satander_A_mat[t]),node_features=attr)\n",
        "    unsupervised_samples = UnsupervisedSampler(G, nodes=list(G.nodes()), length=10, number_of_walks=10)\n",
        "    generator = GraphSAGELinkGenerator(G, batch_size=512, num_samples=[10, 10])\n",
        "    train_gen = generator.flow(unsupervised_samples)\n",
        "    graphsage = GraphSAGE(layer_sizes=[50, 10], generator=generator, bias=True, dropout=0.0, normalize=\"l2\")\n",
        "    # Build the model and expose input and output sockets of GraphSAGE, for node pair inputs:\n",
        "    x_inp, x_out = graphsage.in_out_tensors()\n",
        "    prediction = link_classification(output_dim=1, output_act=\"sigmoid\", edge_embedding_method=\"ip\")(x_out)\n",
        "    model = keras.Model(inputs=x_inp, outputs=prediction)\n",
        "    model.compile(optimizer=keras.optimizers.Adam(learning_rate=1e-2), loss=keras.losses.binary_crossentropy, metrics=[keras.metrics.binary_accuracy])\n",
        "    history = model.fit(train_gen, epochs=1, verbose=1, use_multiprocessing=False, workers=2, shuffle=True)\n",
        "    x_inp_src = x_inp[0::2]\n",
        "    x_out_src = x_out[0]\n",
        "    embedding_model = keras.Model(inputs=x_inp_src, outputs=x_out_src)\n",
        "    node_ids = list(range(845))\n",
        "    node_gen = GraphSAGENodeGenerator(G, batch_size=512, num_samples=[10, 10]).flow(node_ids)\n",
        "    U[t], loss[t] = embedding_model.predict(node_gen, workers=2, verbose=1), history.history['loss']\n",
        "    np.save('graphsage_'+str(t)+'.npy',U[t])\n",
        "    files.download('graphsage_'+str(t)+'.npy')\n",
        "    \n"
      ],
      "execution_count": null,
      "outputs": [
        {
          "output_type": "stream",
          "text": [
            "Graph: 2\n",
            "link_classification: using 'ip' method to combine node embeddings into edge embeddings\n",
            "279/279 [==============================] - 207s 734ms/step - loss: 0.7000 - binary_accuracy: 0.5316\n",
            "2/2 [==============================] - 1s 123ms/step\n"
          ],
          "name": "stdout"
        },
        {
          "output_type": "display_data",
          "data": {
            "application/javascript": [
              "\n",
              "    async function download(id, filename, size) {\n",
              "      if (!google.colab.kernel.accessAllowed) {\n",
              "        return;\n",
              "      }\n",
              "      const div = document.createElement('div');\n",
              "      const label = document.createElement('label');\n",
              "      label.textContent = `Downloading \"${filename}\": `;\n",
              "      div.appendChild(label);\n",
              "      const progress = document.createElement('progress');\n",
              "      progress.max = size;\n",
              "      div.appendChild(progress);\n",
              "      document.body.appendChild(div);\n",
              "\n",
              "      const buffers = [];\n",
              "      let downloaded = 0;\n",
              "\n",
              "      const channel = await google.colab.kernel.comms.open(id);\n",
              "      // Send a message to notify the kernel that we're ready.\n",
              "      channel.send({})\n",
              "\n",
              "      for await (const message of channel.messages) {\n",
              "        // Send a message to notify the kernel that we're ready.\n",
              "        channel.send({})\n",
              "        if (message.buffers) {\n",
              "          for (const buffer of message.buffers) {\n",
              "            buffers.push(buffer);\n",
              "            downloaded += buffer.byteLength;\n",
              "            progress.value = downloaded;\n",
              "          }\n",
              "        }\n",
              "      }\n",
              "      const blob = new Blob(buffers, {type: 'application/binary'});\n",
              "      const a = document.createElement('a');\n",
              "      a.href = window.URL.createObjectURL(blob);\n",
              "      a.download = filename;\n",
              "      div.appendChild(a);\n",
              "      a.click();\n",
              "      div.remove();\n",
              "    }\n",
              "  "
            ],
            "text/plain": [
              "<IPython.core.display.Javascript object>"
            ]
          },
          "metadata": {
            "tags": []
          }
        },
        {
          "output_type": "display_data",
          "data": {
            "application/javascript": [
              "download(\"download_e400bdc9-9f54-43e5-9225-7bd80d956768\", \"graphsage_1.npy\", 33928)"
            ],
            "text/plain": [
              "<IPython.core.display.Javascript object>"
            ]
          },
          "metadata": {
            "tags": []
          }
        },
        {
          "output_type": "stream",
          "text": [
            "Graph: 3\n",
            "link_classification: using 'ip' method to combine node embeddings into edge embeddings\n",
            "279/279 [==============================] - 207s 735ms/step - loss: 0.7001 - binary_accuracy: 0.5332\n",
            "2/2 [==============================] - 1s 140ms/step\n"
          ],
          "name": "stdout"
        },
        {
          "output_type": "display_data",
          "data": {
            "application/javascript": [
              "\n",
              "    async function download(id, filename, size) {\n",
              "      if (!google.colab.kernel.accessAllowed) {\n",
              "        return;\n",
              "      }\n",
              "      const div = document.createElement('div');\n",
              "      const label = document.createElement('label');\n",
              "      label.textContent = `Downloading \"${filename}\": `;\n",
              "      div.appendChild(label);\n",
              "      const progress = document.createElement('progress');\n",
              "      progress.max = size;\n",
              "      div.appendChild(progress);\n",
              "      document.body.appendChild(div);\n",
              "\n",
              "      const buffers = [];\n",
              "      let downloaded = 0;\n",
              "\n",
              "      const channel = await google.colab.kernel.comms.open(id);\n",
              "      // Send a message to notify the kernel that we're ready.\n",
              "      channel.send({})\n",
              "\n",
              "      for await (const message of channel.messages) {\n",
              "        // Send a message to notify the kernel that we're ready.\n",
              "        channel.send({})\n",
              "        if (message.buffers) {\n",
              "          for (const buffer of message.buffers) {\n",
              "            buffers.push(buffer);\n",
              "            downloaded += buffer.byteLength;\n",
              "            progress.value = downloaded;\n",
              "          }\n",
              "        }\n",
              "      }\n",
              "      const blob = new Blob(buffers, {type: 'application/binary'});\n",
              "      const a = document.createElement('a');\n",
              "      a.href = window.URL.createObjectURL(blob);\n",
              "      a.download = filename;\n",
              "      div.appendChild(a);\n",
              "      a.click();\n",
              "      div.remove();\n",
              "    }\n",
              "  "
            ],
            "text/plain": [
              "<IPython.core.display.Javascript object>"
            ]
          },
          "metadata": {
            "tags": []
          }
        },
        {
          "output_type": "display_data",
          "data": {
            "application/javascript": [
              "download(\"download_0f8a5b7d-b427-4b33-ae7d-818da84ca8ee\", \"graphsage_2.npy\", 33928)"
            ],
            "text/plain": [
              "<IPython.core.display.Javascript object>"
            ]
          },
          "metadata": {
            "tags": []
          }
        },
        {
          "output_type": "stream",
          "text": [
            "Graph: 4\n",
            "link_classification: using 'ip' method to combine node embeddings into edge embeddings\n",
            "279/279 [==============================] - 206s 731ms/step - loss: 0.6975 - binary_accuracy: 0.5372\n",
            "2/2 [==============================] - 1s 125ms/step\n"
          ],
          "name": "stdout"
        },
        {
          "output_type": "display_data",
          "data": {
            "application/javascript": [
              "\n",
              "    async function download(id, filename, size) {\n",
              "      if (!google.colab.kernel.accessAllowed) {\n",
              "        return;\n",
              "      }\n",
              "      const div = document.createElement('div');\n",
              "      const label = document.createElement('label');\n",
              "      label.textContent = `Downloading \"${filename}\": `;\n",
              "      div.appendChild(label);\n",
              "      const progress = document.createElement('progress');\n",
              "      progress.max = size;\n",
              "      div.appendChild(progress);\n",
              "      document.body.appendChild(div);\n",
              "\n",
              "      const buffers = [];\n",
              "      let downloaded = 0;\n",
              "\n",
              "      const channel = await google.colab.kernel.comms.open(id);\n",
              "      // Send a message to notify the kernel that we're ready.\n",
              "      channel.send({})\n",
              "\n",
              "      for await (const message of channel.messages) {\n",
              "        // Send a message to notify the kernel that we're ready.\n",
              "        channel.send({})\n",
              "        if (message.buffers) {\n",
              "          for (const buffer of message.buffers) {\n",
              "            buffers.push(buffer);\n",
              "            downloaded += buffer.byteLength;\n",
              "            progress.value = downloaded;\n",
              "          }\n",
              "        }\n",
              "      }\n",
              "      const blob = new Blob(buffers, {type: 'application/binary'});\n",
              "      const a = document.createElement('a');\n",
              "      a.href = window.URL.createObjectURL(blob);\n",
              "      a.download = filename;\n",
              "      div.appendChild(a);\n",
              "      a.click();\n",
              "      div.remove();\n",
              "    }\n",
              "  "
            ],
            "text/plain": [
              "<IPython.core.display.Javascript object>"
            ]
          },
          "metadata": {
            "tags": []
          }
        },
        {
          "output_type": "display_data",
          "data": {
            "application/javascript": [
              "download(\"download_726ca8c8-0121-4213-b865-5bd8b7af973f\", \"graphsage_3.npy\", 33928)"
            ],
            "text/plain": [
              "<IPython.core.display.Javascript object>"
            ]
          },
          "metadata": {
            "tags": []
          }
        },
        {
          "output_type": "stream",
          "text": [
            "Graph: 5\n",
            "link_classification: using 'ip' method to combine node embeddings into edge embeddings\n",
            "279/279 [==============================] - 202s 716ms/step - loss: 0.6941 - binary_accuracy: 0.5419\n",
            "WARNING:tensorflow:5 out of the last 9 calls to <function Model.make_predict_function.<locals>.predict_function at 0x7fa9db230050> triggered tf.function retracing. Tracing is expensive and the excessive number of tracings could be due to (1) creating @tf.function repeatedly in a loop, (2) passing tensors with different shapes, (3) passing Python objects instead of tensors. For (1), please define your @tf.function outside of the loop. For (2), @tf.function has experimental_relax_shapes=True option that relaxes argument shapes that can avoid unnecessary retracing. For (3), please refer to https://www.tensorflow.org/guide/function#controlling_retracing and https://www.tensorflow.org/api_docs/python/tf/function for  more details.\n",
            "2/2 [==============================] - 1s 156ms/step\n"
          ],
          "name": "stdout"
        },
        {
          "output_type": "display_data",
          "data": {
            "application/javascript": [
              "\n",
              "    async function download(id, filename, size) {\n",
              "      if (!google.colab.kernel.accessAllowed) {\n",
              "        return;\n",
              "      }\n",
              "      const div = document.createElement('div');\n",
              "      const label = document.createElement('label');\n",
              "      label.textContent = `Downloading \"${filename}\": `;\n",
              "      div.appendChild(label);\n",
              "      const progress = document.createElement('progress');\n",
              "      progress.max = size;\n",
              "      div.appendChild(progress);\n",
              "      document.body.appendChild(div);\n",
              "\n",
              "      const buffers = [];\n",
              "      let downloaded = 0;\n",
              "\n",
              "      const channel = await google.colab.kernel.comms.open(id);\n",
              "      // Send a message to notify the kernel that we're ready.\n",
              "      channel.send({})\n",
              "\n",
              "      for await (const message of channel.messages) {\n",
              "        // Send a message to notify the kernel that we're ready.\n",
              "        channel.send({})\n",
              "        if (message.buffers) {\n",
              "          for (const buffer of message.buffers) {\n",
              "            buffers.push(buffer);\n",
              "            downloaded += buffer.byteLength;\n",
              "            progress.value = downloaded;\n",
              "          }\n",
              "        }\n",
              "      }\n",
              "      const blob = new Blob(buffers, {type: 'application/binary'});\n",
              "      const a = document.createElement('a');\n",
              "      a.href = window.URL.createObjectURL(blob);\n",
              "      a.download = filename;\n",
              "      div.appendChild(a);\n",
              "      a.click();\n",
              "      div.remove();\n",
              "    }\n",
              "  "
            ],
            "text/plain": [
              "<IPython.core.display.Javascript object>"
            ]
          },
          "metadata": {
            "tags": []
          }
        },
        {
          "output_type": "display_data",
          "data": {
            "application/javascript": [
              "download(\"download_8c2852eb-0666-4298-9a9e-a89871a80e5f\", \"graphsage_4.npy\", 33928)"
            ],
            "text/plain": [
              "<IPython.core.display.Javascript object>"
            ]
          },
          "metadata": {
            "tags": []
          }
        },
        {
          "output_type": "stream",
          "text": [
            "Graph: 6\n",
            "link_classification: using 'ip' method to combine node embeddings into edge embeddings\n",
            "279/279 [==============================] - 206s 732ms/step - loss: 0.6997 - binary_accuracy: 0.5315\n",
            "WARNING:tensorflow:6 out of the last 11 calls to <function Model.make_predict_function.<locals>.predict_function at 0x7fa9dd5c2950> triggered tf.function retracing. Tracing is expensive and the excessive number of tracings could be due to (1) creating @tf.function repeatedly in a loop, (2) passing tensors with different shapes, (3) passing Python objects instead of tensors. For (1), please define your @tf.function outside of the loop. For (2), @tf.function has experimental_relax_shapes=True option that relaxes argument shapes that can avoid unnecessary retracing. For (3), please refer to https://www.tensorflow.org/guide/function#controlling_retracing and https://www.tensorflow.org/api_docs/python/tf/function for  more details.\n",
            "2/2 [==============================] - 1s 112ms/step\n"
          ],
          "name": "stdout"
        },
        {
          "output_type": "display_data",
          "data": {
            "application/javascript": [
              "\n",
              "    async function download(id, filename, size) {\n",
              "      if (!google.colab.kernel.accessAllowed) {\n",
              "        return;\n",
              "      }\n",
              "      const div = document.createElement('div');\n",
              "      const label = document.createElement('label');\n",
              "      label.textContent = `Downloading \"${filename}\": `;\n",
              "      div.appendChild(label);\n",
              "      const progress = document.createElement('progress');\n",
              "      progress.max = size;\n",
              "      div.appendChild(progress);\n",
              "      document.body.appendChild(div);\n",
              "\n",
              "      const buffers = [];\n",
              "      let downloaded = 0;\n",
              "\n",
              "      const channel = await google.colab.kernel.comms.open(id);\n",
              "      // Send a message to notify the kernel that we're ready.\n",
              "      channel.send({})\n",
              "\n",
              "      for await (const message of channel.messages) {\n",
              "        // Send a message to notify the kernel that we're ready.\n",
              "        channel.send({})\n",
              "        if (message.buffers) {\n",
              "          for (const buffer of message.buffers) {\n",
              "            buffers.push(buffer);\n",
              "            downloaded += buffer.byteLength;\n",
              "            progress.value = downloaded;\n",
              "          }\n",
              "        }\n",
              "      }\n",
              "      const blob = new Blob(buffers, {type: 'application/binary'});\n",
              "      const a = document.createElement('a');\n",
              "      a.href = window.URL.createObjectURL(blob);\n",
              "      a.download = filename;\n",
              "      div.appendChild(a);\n",
              "      a.click();\n",
              "      div.remove();\n",
              "    }\n",
              "  "
            ],
            "text/plain": [
              "<IPython.core.display.Javascript object>"
            ]
          },
          "metadata": {
            "tags": []
          }
        },
        {
          "output_type": "display_data",
          "data": {
            "application/javascript": [
              "download(\"download_707639a2-d51b-4e3f-b85b-657dff241cb6\", \"graphsage_5.npy\", 33928)"
            ],
            "text/plain": [
              "<IPython.core.display.Javascript object>"
            ]
          },
          "metadata": {
            "tags": []
          }
        },
        {
          "output_type": "stream",
          "text": [
            "Graph: 7\n",
            "link_classification: using 'ip' method to combine node embeddings into edge embeddings\n",
            "278/278 [==============================] - 208s 740ms/step - loss: 0.7002 - binary_accuracy: 0.5323\n",
            "2/2 [==============================] - 1s 100ms/step\n"
          ],
          "name": "stdout"
        },
        {
          "output_type": "display_data",
          "data": {
            "application/javascript": [
              "\n",
              "    async function download(id, filename, size) {\n",
              "      if (!google.colab.kernel.accessAllowed) {\n",
              "        return;\n",
              "      }\n",
              "      const div = document.createElement('div');\n",
              "      const label = document.createElement('label');\n",
              "      label.textContent = `Downloading \"${filename}\": `;\n",
              "      div.appendChild(label);\n",
              "      const progress = document.createElement('progress');\n",
              "      progress.max = size;\n",
              "      div.appendChild(progress);\n",
              "      document.body.appendChild(div);\n",
              "\n",
              "      const buffers = [];\n",
              "      let downloaded = 0;\n",
              "\n",
              "      const channel = await google.colab.kernel.comms.open(id);\n",
              "      // Send a message to notify the kernel that we're ready.\n",
              "      channel.send({})\n",
              "\n",
              "      for await (const message of channel.messages) {\n",
              "        // Send a message to notify the kernel that we're ready.\n",
              "        channel.send({})\n",
              "        if (message.buffers) {\n",
              "          for (const buffer of message.buffers) {\n",
              "            buffers.push(buffer);\n",
              "            downloaded += buffer.byteLength;\n",
              "            progress.value = downloaded;\n",
              "          }\n",
              "        }\n",
              "      }\n",
              "      const blob = new Blob(buffers, {type: 'application/binary'});\n",
              "      const a = document.createElement('a');\n",
              "      a.href = window.URL.createObjectURL(blob);\n",
              "      a.download = filename;\n",
              "      div.appendChild(a);\n",
              "      a.click();\n",
              "      div.remove();\n",
              "    }\n",
              "  "
            ],
            "text/plain": [
              "<IPython.core.display.Javascript object>"
            ]
          },
          "metadata": {
            "tags": []
          }
        },
        {
          "output_type": "display_data",
          "data": {
            "application/javascript": [
              "download(\"download_7a2691fc-34b0-4402-b158-1554de4ba67e\", \"graphsage_6.npy\", 33928)"
            ],
            "text/plain": [
              "<IPython.core.display.Javascript object>"
            ]
          },
          "metadata": {
            "tags": []
          }
        },
        {
          "output_type": "stream",
          "text": [
            "Graph: 8\n",
            "link_classification: using 'ip' method to combine node embeddings into edge embeddings\n",
            "278/278 [==============================] - 211s 750ms/step - loss: 0.7019 - binary_accuracy: 0.5287\n",
            "2/2 [==============================] - 1s 146ms/step\n"
          ],
          "name": "stdout"
        },
        {
          "output_type": "display_data",
          "data": {
            "application/javascript": [
              "\n",
              "    async function download(id, filename, size) {\n",
              "      if (!google.colab.kernel.accessAllowed) {\n",
              "        return;\n",
              "      }\n",
              "      const div = document.createElement('div');\n",
              "      const label = document.createElement('label');\n",
              "      label.textContent = `Downloading \"${filename}\": `;\n",
              "      div.appendChild(label);\n",
              "      const progress = document.createElement('progress');\n",
              "      progress.max = size;\n",
              "      div.appendChild(progress);\n",
              "      document.body.appendChild(div);\n",
              "\n",
              "      const buffers = [];\n",
              "      let downloaded = 0;\n",
              "\n",
              "      const channel = await google.colab.kernel.comms.open(id);\n",
              "      // Send a message to notify the kernel that we're ready.\n",
              "      channel.send({})\n",
              "\n",
              "      for await (const message of channel.messages) {\n",
              "        // Send a message to notify the kernel that we're ready.\n",
              "        channel.send({})\n",
              "        if (message.buffers) {\n",
              "          for (const buffer of message.buffers) {\n",
              "            buffers.push(buffer);\n",
              "            downloaded += buffer.byteLength;\n",
              "            progress.value = downloaded;\n",
              "          }\n",
              "        }\n",
              "      }\n",
              "      const blob = new Blob(buffers, {type: 'application/binary'});\n",
              "      const a = document.createElement('a');\n",
              "      a.href = window.URL.createObjectURL(blob);\n",
              "      a.download = filename;\n",
              "      div.appendChild(a);\n",
              "      a.click();\n",
              "      div.remove();\n",
              "    }\n",
              "  "
            ],
            "text/plain": [
              "<IPython.core.display.Javascript object>"
            ]
          },
          "metadata": {
            "tags": []
          }
        },
        {
          "output_type": "display_data",
          "data": {
            "application/javascript": [
              "download(\"download_0eac1508-2021-48e7-bddf-5d3a0b3518db\", \"graphsage_7.npy\", 33928)"
            ],
            "text/plain": [
              "<IPython.core.display.Javascript object>"
            ]
          },
          "metadata": {
            "tags": []
          }
        },
        {
          "output_type": "stream",
          "text": [
            "Graph: 9\n",
            "link_classification: using 'ip' method to combine node embeddings into edge embeddings\n",
            "278/278 [==============================] - 207s 737ms/step - loss: 0.6979 - binary_accuracy: 0.5370\n",
            "2/2 [==============================] - 1s 123ms/step\n"
          ],
          "name": "stdout"
        },
        {
          "output_type": "display_data",
          "data": {
            "application/javascript": [
              "\n",
              "    async function download(id, filename, size) {\n",
              "      if (!google.colab.kernel.accessAllowed) {\n",
              "        return;\n",
              "      }\n",
              "      const div = document.createElement('div');\n",
              "      const label = document.createElement('label');\n",
              "      label.textContent = `Downloading \"${filename}\": `;\n",
              "      div.appendChild(label);\n",
              "      const progress = document.createElement('progress');\n",
              "      progress.max = size;\n",
              "      div.appendChild(progress);\n",
              "      document.body.appendChild(div);\n",
              "\n",
              "      const buffers = [];\n",
              "      let downloaded = 0;\n",
              "\n",
              "      const channel = await google.colab.kernel.comms.open(id);\n",
              "      // Send a message to notify the kernel that we're ready.\n",
              "      channel.send({})\n",
              "\n",
              "      for await (const message of channel.messages) {\n",
              "        // Send a message to notify the kernel that we're ready.\n",
              "        channel.send({})\n",
              "        if (message.buffers) {\n",
              "          for (const buffer of message.buffers) {\n",
              "            buffers.push(buffer);\n",
              "            downloaded += buffer.byteLength;\n",
              "            progress.value = downloaded;\n",
              "          }\n",
              "        }\n",
              "      }\n",
              "      const blob = new Blob(buffers, {type: 'application/binary'});\n",
              "      const a = document.createElement('a');\n",
              "      a.href = window.URL.createObjectURL(blob);\n",
              "      a.download = filename;\n",
              "      div.appendChild(a);\n",
              "      a.click();\n",
              "      div.remove();\n",
              "    }\n",
              "  "
            ],
            "text/plain": [
              "<IPython.core.display.Javascript object>"
            ]
          },
          "metadata": {
            "tags": []
          }
        },
        {
          "output_type": "display_data",
          "data": {
            "application/javascript": [
              "download(\"download_80a8728b-44ec-4350-bd60-2d64bc90c89c\", \"graphsage_8.npy\", 33928)"
            ],
            "text/plain": [
              "<IPython.core.display.Javascript object>"
            ]
          },
          "metadata": {
            "tags": []
          }
        }
      ]
    },
    {
      "cell_type": "markdown",
      "metadata": {
        "id": "qhiud9PeZeQB"
      },
      "source": [
        "### Download saved latent position"
      ]
    },
    {
      "cell_type": "code",
      "metadata": {
        "id": "S7Ed8VeZRCHk"
      },
      "source": [
        "#download embedding latent positions\n",
        "U1 = {}\n",
        "for t in range(9):\n",
        "  U1[t] = np.load('satander_data/graphsage_'+str(t)+'.npy')\n"
      ],
      "execution_count": null,
      "outputs": []
    },
    {
      "cell_type": "markdown",
      "metadata": {
        "id": "turxtjTOZub0"
      },
      "source": [
        "### Construct Edge feature"
      ]
    },
    {
      "cell_type": "code",
      "metadata": {
        "id": "rSggiLavBplt"
      },
      "source": [
        "def ef_hadamard(A,U,V,negative_class):\n",
        "    ## Calculate the scores for negative_class\n",
        "    scores_negative_class = []\n",
        "    for pair in negative_class:\n",
        "        scores_negative_class += [U[int(pair[0]),:]*V[int(pair[1]),:] ]\n",
        "    ## Calculate the scores for positive_class\n",
        "    scores_positive_class = []\n",
        "    for pair in A:\n",
        "        scores_positive_class += [U[int(pair[0]),:]*V[int(pair[1]),:] ]\n",
        "    #combine for x and y\n",
        "    x = np.vstack((np.array(scores_negative_class),np.array(scores_positive_class)))\n",
        "    y = np.hstack((np.zeros(len(scores_negative_class)),np.ones(len(scores_positive_class))))\n",
        "    return x,y\n",
        "\n",
        "#use average to construct edge feature\n",
        "def ef_average(A,U,V,negative_class):\n",
        "\n",
        "    ## Calculate the scores for negative_class\n",
        "    scores_negative_class = []\n",
        "    for pair in negative_class:\n",
        "        scores_negative_class += [(U[int(pair[0]),:]+V[int(pair[1]),:])*0.5]\n",
        "    ## Calculate the scores for positive_class\n",
        "    scores_positive_class = []\n",
        "    for pair in A:\n",
        "        scores_positive_class += [(U[int(pair[0]),:]+V[int(pair[1]),:])*0.5]\n",
        "    #combine for x and y\n",
        "    x = np.vstack((np.array(scores_negative_class),np.array(scores_positive_class)))\n",
        "    y = np.hstack((np.zeros(len(scores_negative_class)),np.ones(len(scores_positive_class))))\n",
        "    return x,y"
      ],
      "execution_count": null,
      "outputs": []
    },
    {
      "cell_type": "code",
      "metadata": {
        "id": "BcNn6sU7GwDj"
      },
      "source": [
        "average_U1 = lanl.average_mat(U1)"
      ],
      "execution_count": null,
      "outputs": []
    },
    {
      "cell_type": "code",
      "metadata": {
        "id": "u8MYVhhN851f"
      },
      "source": [
        "#for prediction at t=9\n",
        "t=9\n",
        "#hadarmard\n",
        "hadarmard_edgefeature,V1 = ef_hadamard(satander_counter[t],average_U1,average_U1,satander_negative_class[t])\n",
        "#average\n",
        "average_edgefeature,V2 = ef_average(satander_counter[t],average_U1,average_U1,satander_negative_class[t])"
      ],
      "execution_count": null,
      "outputs": []
    },
    {
      "cell_type": "code",
      "metadata": {
        "id": "GW17YiTtbwCS"
      },
      "source": [
        "def logit_pred(edge_feature,V,m=None,n=None):\n",
        "  M = np.hstack((np.ones((len(edge_feature),1)),edge_feature))\n",
        "  logit_model =  LogisticRegression(max_iter=5000)\n",
        "  logit_model.fit(M,V)\n",
        "  beta = logit_model.coef_\n",
        "  pred_V =  np.dot(M,beta.T)\n",
        "  return roc_auc_score(V,pred_V)\n"
      ],
      "execution_count": null,
      "outputs": []
    },
    {
      "cell_type": "code",
      "metadata": {
        "colab": {
          "base_uri": "https://localhost:8080/"
        },
        "id": "-gsMuoy-ec-h",
        "outputId": "e8e7fb2b-85af-4de5-9358-e0065be10a60"
      },
      "source": [
        "#hadaemard\n",
        "logit_pred(hadarmard_edgefeature,V1,845,845)"
      ],
      "execution_count": null,
      "outputs": [
        {
          "output_type": "execute_result",
          "data": {
            "text/plain": [
              "0.7123618938270619"
            ]
          },
          "metadata": {},
          "execution_count": 24
        }
      ]
    },
    {
      "cell_type": "code",
      "metadata": {
        "colab": {
          "base_uri": "https://localhost:8080/"
        },
        "id": "4n1tSZ6Vet1e",
        "outputId": "524f9060-48d7-40ed-a9a9-c53b8d7dffeb"
      },
      "source": [
        "#average\n",
        "logit_pred(average_edgefeature,V2,845,845)"
      ],
      "execution_count": null,
      "outputs": [
        {
          "output_type": "execute_result",
          "data": {
            "text/plain": [
              "0.5659827704804449"
            ]
          },
          "metadata": {},
          "execution_count": 25
        }
      ]
    },
    {
      "cell_type": "markdown",
      "metadata": {
        "id": "4t_yKaVxJSBf"
      },
      "source": [
        "## GCN with Deep Graph Infomax"
      ]
    },
    {
      "cell_type": "markdown",
      "metadata": {
        "id": "cnFSRcDsagUA"
      },
      "source": [
        "### Procedure of embedding"
      ]
    },
    {
      "cell_type": "code",
      "metadata": {
        "id": "lbguYUi6ImN6"
      },
      "source": [
        "def run_deep_graph_infomax(base_model, G, generator, epochs, lr=1e-3):\n",
        "    ## Define generators\n",
        "    corrupted_generator = CorruptedGenerator(generator)\n",
        "    gen = corrupted_generator.flow(G.nodes())\n",
        "    infomax = DeepGraphInfomax(base_model, corrupted_generator)\n",
        "    ## Infomax\n",
        "    x_in, x_out = infomax.in_out_tensors()\n",
        "    ## Model\n",
        "    model = Model(inputs=x_in, outputs=x_out)\n",
        "    model.compile(loss=tf.nn.sigmoid_cross_entropy_with_logits, optimizer=Adam(learning_rate=lr))\n",
        "    es = EarlyStopping(monitor=\"loss\", min_delta=0, patience=20)\n",
        "    history = model.fit(gen, epochs=epochs, verbose=0, callbacks=[es])\n",
        "    ## Input-output\n",
        "    x_emb_in, x_emb_out = base_model.in_out_tensors()\n",
        "    ## For full batch models, squeeze out the batch dimension\n",
        "    if generator.num_batch_dims() == 2:\n",
        "        x_emb_out = tf.squeeze(x_emb_out, axis=0)\n",
        "    ## Embedding model and predictions\n",
        "    emb_model = Model(inputs=x_emb_in, outputs=x_emb_out)\n",
        "    U = emb_model.predict(generator.flow(G.nodes()))\n",
        "    return U, history.history['loss']\n",
        "\n",
        "U = {}\n",
        "loss = {}\n",
        "attr = pd.DataFrame(np.diag(np.ones(845)), index=list(range(845)))\n",
        "for t in range(10):\n",
        "    print('Graph: ' + str(t+1))\n",
        "    G = sg.StellarGraph.from_networkx(nx.from_scipy_sparse_matrix(satander_A_mat[t]), node_features=attr)\n",
        "    fullbatch_generator = FullBatchNodeGenerator(G)\n",
        "    gcn_model = GCN(layer_sizes=[10], activations=[\"relu\"], generator=fullbatch_generator)\n",
        "    U[t], loss[t] = run_deep_graph_infomax(base_model=gcn_model, G=G, generator=fullbatch_generator, epochs=250, lr=1e-2)\n",
        "    np.save('gcn_'+str(t)+'.npy',U[t])\n",
        "    "
      ],
      "execution_count": null,
      "outputs": []
    },
    {
      "cell_type": "markdown",
      "metadata": {
        "id": "zAVpRoBPajVO"
      },
      "source": [
        "### Download aved latent position"
      ]
    },
    {
      "cell_type": "code",
      "metadata": {
        "id": "nkE9ciswK7tc"
      },
      "source": [
        "#download embedding latent positions\n",
        "U2 = {}\n",
        "for t in range(9):\n",
        "  U2[t] = np.load('satander_data/gcn_'+str(t)+'.npy')"
      ],
      "execution_count": null,
      "outputs": []
    },
    {
      "cell_type": "markdown",
      "metadata": {
        "id": "Y5PNwOlsazBs"
      },
      "source": [
        "### Construct Edge feature"
      ]
    },
    {
      "cell_type": "code",
      "metadata": {
        "id": "5FaogRl-LXck"
      },
      "source": [
        "average_U2 = lanl.average_mat(U2)"
      ],
      "execution_count": null,
      "outputs": []
    },
    {
      "cell_type": "code",
      "metadata": {
        "id": "qnjX1ELYLXcl"
      },
      "source": [
        "#for prediction at t=9\n",
        "t=9\n",
        "#hadarmard\n",
        "hadarmard_edgefeature2,V1 = ef_hadamard(satander_counter[t],average_U2,average_U2,satander_negative_class[t])\n",
        "#average\n",
        "average_edgefeature2,V2 = ef_average(satander_counter[t],average_U2,average_U2,satander_negative_class[t])"
      ],
      "execution_count": null,
      "outputs": []
    },
    {
      "cell_type": "code",
      "metadata": {
        "colab": {
          "base_uri": "https://localhost:8080/"
        },
        "id": "Hq83kdEafJuP",
        "outputId": "4ea90bbb-981b-426c-a2a4-80cfc2c285ed"
      },
      "source": [
        "#hadaemard\n",
        "logit_pred(hadarmard_edgefeature2,V1,845,845)"
      ],
      "execution_count": null,
      "outputs": [
        {
          "output_type": "execute_result",
          "data": {
            "text/plain": [
              "0.7817794456686145"
            ]
          },
          "metadata": {},
          "execution_count": 30
        }
      ]
    },
    {
      "cell_type": "code",
      "metadata": {
        "colab": {
          "base_uri": "https://localhost:8080/"
        },
        "id": "_313TpDvfJuQ",
        "outputId": "c9eab6fc-b3fe-42df-a128-5e8c87f28590"
      },
      "source": [
        "#average\n",
        "logit_pred(average_edgefeature2,V2,845,845)"
      ],
      "execution_count": null,
      "outputs": [
        {
          "output_type": "execute_result",
          "data": {
            "text/plain": [
              "0.7202953608617526"
            ]
          },
          "metadata": {},
          "execution_count": 31
        }
      ]
    },
    {
      "cell_type": "markdown",
      "metadata": {
        "id": "qTMrMP1pKg_z"
      },
      "source": [
        "## Spectral Embedding"
      ]
    },
    {
      "cell_type": "code",
      "metadata": {
        "colab": {
          "base_uri": "https://localhost:8080/"
        },
        "id": "BPnwRR_xKmpg",
        "outputId": "38b9dd81-3523-40b3-f410-5ea7be25d24b"
      },
      "source": [
        "#AIP\n",
        "X = {}\n",
        "Y = {}\n",
        "for t in range(9):\n",
        "    X_t,Y_t = lanl.dase(satander_A_mat[t],d=10)\n",
        "    X[t] = X_t\n",
        "    Y[t] = Y_t\n",
        "\n",
        "x1,y1 = lanl.aip(satander_counter[9],X,Y,satander_negative_class[9])\n",
        "roc_auc_score(y1,x1)"
      ],
      "execution_count": null,
      "outputs": [
        {
          "output_type": "execute_result",
          "data": {
            "text/plain": [
              "0.8899773065888505"
            ]
          },
          "metadata": {},
          "execution_count": 24
        }
      ]
    },
    {
      "cell_type": "code",
      "metadata": {
        "colab": {
          "base_uri": "https://localhost:8080/"
        },
        "id": "Fd9un9S5KUVy",
        "outputId": "7d1ce71a-2748-4c48-b797-21b7d9d64339"
      },
      "source": [
        "#COSIE\n",
        "hat_X,hat_Y,R = lanl.mase_direct(satander_A_mat,10)\n",
        "\n",
        "#compute R_average\n",
        "R_average = lanl.average_mat(R,0,8)\n",
        "\n",
        "x_cosie,y_cosie = lanl.cosie_average(satander_counter[9],hat_X,hat_Y,R_average,satander_negative_class[9])\n",
        "roc_auc_score(y_cosie,x_cosie)"
      ],
      "execution_count": null,
      "outputs": [
        {
          "output_type": "execute_result",
          "data": {
            "text/plain": [
              "0.8982030156562658"
            ]
          },
          "metadata": {},
          "execution_count": 25
        }
      ]
    },
    {
      "cell_type": "markdown",
      "metadata": {
        "id": "HDfYdn3U39gZ"
      },
      "source": [
        "## Expectation"
      ]
    },
    {
      "cell_type": "code",
      "metadata": {
        "id": "TREdE2Oq4Dut"
      },
      "source": [
        "#Graphsage\n",
        "h_roc11 = []\n",
        "a_roc11 = [ ]\n",
        "for t in range(9):\n",
        "  #hardarmard\n",
        "  hadarmard_edgefeature,V1 = ef_hadamard(satander_counter[t],U1[t],U1[t],satander_negative_class[t])\n",
        "  roc1 = logit_pred(hadarmard_edgefeature,V1,845,845)\n",
        "  #average\n",
        "  average_edgefeature,V2 = ef_average(satander_counter[t],U1[t],U1[t],satander_negative_class[t])\n",
        "  roc2 = logit_pred(average_edgefeature,V1,845,845)\n",
        "  h_roc11.append(roc1)\n",
        "  a_roc11.append(roc2)\n",
        "\n",
        "#GCN \n",
        "h_roc22 = []\n",
        "a_roc22 = []\n",
        "for t in range(9):\n",
        "  #hardarmard\n",
        "  hadarmard_edgefeature,V1 = ef_hadamard(satander_counter[t],U2[t],U2[t],satander_negative_class[t])\n",
        "  roc1 = logit_pred(hadarmard_edgefeature,V1,845,845)\n",
        "  #average\n",
        "  average_edgefeature,V2 = ef_average(satander_counter[t],U2[t],U2[t],satander_negative_class[t])\n",
        "  roc2 = logit_pred(average_edgefeature,V1,845,845)\n",
        "  h_roc22.append(roc1)\n",
        "  a_roc22.append(roc2)\n"
      ],
      "execution_count": null,
      "outputs": []
    },
    {
      "cell_type": "code",
      "metadata": {
        "colab": {
          "base_uri": "https://localhost:8080/",
          "height": 404
        },
        "id": "9SjvEhx66eSI",
        "outputId": "796421b3-a151-4d87-acd9-a3916824e921"
      },
      "source": [
        "plt.figure(figsize=(10,6))\n",
        "plt.plot(np.linspace(1,9,9),h_roc11,\":o\")\n",
        "plt.plot(np.linspace(1,9,9),a_roc11,\":o\")\n",
        "plt.plot(np.linspace(1,9,9),h_roc22,\":o\")\n",
        "plt.plot(np.linspace(1,9,9),a_roc22,\":o\")\n",
        "plt.xlabel('t')\n",
        "plt.ylabel('auc score')\n",
        "plt.title('Sequential AUC score of expected adjacency matrix')\n",
        "plt.legend(['GraphSAGE: Hadarmard','GraphSAGE: Average','GCN: Hadarmard','GCN: Average'])\n",
        "plt.show()"
      ],
      "execution_count": null,
      "outputs": [
        {
          "output_type": "display_data",
          "data": {
            "image/png": "[encoded data removed]",
            "text/plain": [
              "<Figure size 720x432 with 1 Axes>"
            ]
          },
          "metadata": {
            "needs_background": "light"
          }
        }
      ]
    },
    {
      "cell_type": "markdown",
      "metadata": {
        "id": "r13RVeAqbdMD"
      },
      "source": [
        "## Use A_t to predict for A_{t+1}"
      ]
    },
    {
      "cell_type": "code",
      "metadata": {
        "id": "ZeS_y_znbv6d"
      },
      "source": [
        "#Graphsage\n",
        "h_roc = []\n",
        "a_roc = [ ]\n",
        "for t in range(9):\n",
        "  #hardarmard\n",
        "  hadarmard_edgefeature,V1 = ef_hadamard(satander_counter[t+1],U1[t],U1[t],satander_negative_class[t+1])\n",
        "  roc1 = logit_pred(hadarmard_edgefeature,V1,845,845)\n",
        "  #average\n",
        "  average_edgefeature,V2 = ef_average(satander_counter[t+1],U1[t],U1[t],satander_negative_class[t+1])\n",
        "  roc2 = logit_pred(average_edgefeature,V1,845,845)\n",
        "  h_roc.append(roc1)\n",
        "  a_roc.append(roc2)\n",
        "  "
      ],
      "execution_count": null,
      "outputs": []
    },
    {
      "cell_type": "code",
      "metadata": {
        "id": "ktuoxvtzrDJ_"
      },
      "source": [
        "#GCN \n",
        "h_roc2 = []\n",
        "a_roc2 = [ ]\n",
        "for t in range(9):\n",
        "  #hardarmard\n",
        "  hadarmard_edgefeature,V1 = ef_hadamard(satander_counter[t+1],U2[t],U2[t],satander_negative_class[t+1])\n",
        "  roc1 = logit_pred(hadarmard_edgefeature,V1,845,845)\n",
        "  #average\n",
        "  average_edgefeature,V2 = ef_average(satander_counter[t+1],U2[t],U2[t],satander_negative_class[t+1])\n",
        "  roc2 = logit_pred(average_edgefeature,V1,845,845)\n",
        "  h_roc2.append(roc1)\n",
        "  a_roc2.append(roc2)"
      ],
      "execution_count": null,
      "outputs": []
    },
    {
      "cell_type": "code",
      "metadata": {
        "colab": {
          "base_uri": "https://localhost:8080/",
          "height": 404
        },
        "id": "7GdmiacSbwLi",
        "outputId": "df5840bf-3910-49d9-aaa5-ec20aa605836"
      },
      "source": [
        "plt.figure(figsize=(10,6))\n",
        "plt.plot(np.linspace(1,9,9),h_roc,\":o\")\n",
        "plt.plot(np.linspace(1,9,9),a_roc,\":o\")\n",
        "plt.plot(np.linspace(1,9,9),h_roc2,\":o\")\n",
        "plt.plot(np.linspace(1,9,9),a_roc2,\":o\")\n",
        "plt.xlabel('t')\n",
        "plt.ylabel('auc score')\n",
        "plt.title('Sequential AUC score of using one adjacency matrix')\n",
        "plt.legend(['GraphSAGE: Hadarmard','GraphSAGE: Average','GCN: Hadarmard','GCN: Average'])\n",
        "plt.show()"
      ],
      "execution_count": null,
      "outputs": [
        {
          "output_type": "display_data",
          "data": {
            "image/png": "[encoded data removed]",
            "text/plain": [
              "<Figure size 720x432 with 1 Axes>"
            ]
          },
          "metadata": {
            "needs_background": "light"
          }
        }
      ]
    },
    {
      "cell_type": "code",
      "metadata": {
        "colab": {
          "base_uri": "https://localhost:8080/",
          "height": 404
        },
        "id": "w98ouY_u8pcx",
        "outputId": "03fcdb3b-8868-46aa-8947-5820af7022fd"
      },
      "source": [
        "plt.figure(figsize=(10,6))\n",
        "plt.plot(np.linspace(1,9,9),h_roc,\":o\",color='b')\n",
        "plt.plot(np.linspace(1,9,9),a_roc,\":o\",color='c')\n",
        "plt.plot(np.linspace(1,9,9),h_roc2,\":o\",color='g')\n",
        "plt.plot(np.linspace(1,9,9),a_roc2,\":o\",color='r')\n",
        "plt.plot(np.linspace(1,9,9),h_roc11,\"-o\",color='b')\n",
        "plt.plot(np.linspace(1,9,9),a_roc11,\"-o\",color='c')\n",
        "plt.plot(np.linspace(1,9,9),h_roc22,\"-o\",color='g')\n",
        "plt.plot(np.linspace(1,9,9),a_roc22,\"-o\",color='r')\n",
        "plt.xlabel('t')\n",
        "plt.ylabel('auc score')\n",
        "plt.title('AUC score of using one adjacency matrix')\n",
        "plt.legend(['GraphSAGE: Hadarmard','GraphSAGE: Average','GCN: Hadarmard','GCN: Average'])\n",
        "plt.show()"
      ],
      "execution_count": null,
      "outputs": [
        {
          "output_type": "display_data",
          "data": {
            "image/png": "[encoded data removed]",
            "text/plain": [
              "<Figure size 720x432 with 1 Axes>"
            ]
          },
          "metadata": {
            "needs_background": "light"
          }
        }
      ]
    },
    {
      "cell_type": "markdown",
      "metadata": {
        "id": "_6ywmRojMEKo"
      },
      "source": [
        "## New link predictions\n"
      ]
    },
    {
      "cell_type": "code",
      "metadata": {
        "id": "itb4T87QNQQn"
      },
      "source": [
        "def unobserved_subset(A_observed,A_pred):\n",
        "    #A_observed is dictionary of observed linked pairs saved in counters\n",
        "    #A_pred is the link which we want to predict for\n",
        "    \n",
        "    time_idx = list(A_observed.keys())\n",
        "    \n",
        "    #all positive class\n",
        "    positive_class = np.array([])\n",
        "    A_keys = np.array(list(A_pred.keys()))\n",
        "    \n",
        "    observed_links = Counter()\n",
        "    for t in time_idx:\n",
        "        observed_links += A_observed[t]\n",
        "        \n",
        "    positive_indices = np.array([pair not in observed_links for pair in A_pred])\n",
        "    positive_class = A_keys[positive_indices]\n",
        "    \n",
        "    #all negative class\n",
        "    negative_class = np.zeros((845*845,2))\n",
        "    for i in range(845):\n",
        "      negative_class[845*i:845*(1+i),0] = i*np.ones(845)\n",
        "      negative_class[845*i:845*(1+i),1] = np.linspace(0,844,845)\n",
        "    ## convert into counter\n",
        "    negative_class_counter = Counter()\n",
        "    for pair in list(negative_class):\n",
        "        negative_class_counter[pair[0],pair[1]] = 0\n",
        "    ## Check that the sampled elements effectively correspond to the negative class\n",
        "    negative_class_indices = np.array([pair not in satander_counter[t] for pair in negative_class_counter])\n",
        "    negative_class = negative_class[negative_class_indices]\n",
        "    \n",
        "    #select 0 in A_pred\n",
        "    negative_class_counter = Counter()\n",
        "    for pair in list(negative_class):\n",
        "        negative_class_counter[pair[0],pair[1]] = 0\n",
        "    negative_class_indices = np.array([pair not in A_pred for pair in negative_class_counter])\n",
        "    negative_class = negative_class[negative_class_indices]\n",
        "   \n",
        "    #select never observed\n",
        "    negative_class_counter2 = Counter()\n",
        "    for pair in list(negative_class):\n",
        "        negative_class_counter2[pair[0],pair[1]] = 0\n",
        "    negative_class_indices2 = np.array([pair not in observed_links for pair in negative_class_counter2])\n",
        "    negative_class = negative_class[negative_class_indices2]\n",
        "\n",
        "    \n",
        "    return positive_class,negative_class"
      ],
      "execution_count": null,
      "outputs": []
    },
    {
      "cell_type": "code",
      "metadata": {
        "id": "YnSNkHn2QYRf"
      },
      "source": [
        "A_observed = {}\n",
        "for t in range(9):\n",
        "  A_observed[t] = satander_counter[t]\n",
        "A_pred = satander_counter[9]"
      ],
      "execution_count": null,
      "outputs": []
    },
    {
      "cell_type": "code",
      "metadata": {
        "id": "WiHK-aoxMHGI"
      },
      "source": [
        "unob_positive,unob_negative = unobserved_subset(A_observed,A_pred)"
      ],
      "execution_count": null,
      "outputs": []
    },
    {
      "cell_type": "code",
      "metadata": {
        "colab": {
          "base_uri": "https://localhost:8080/"
        },
        "id": "uMIl4qrAQl91",
        "outputId": "fa86a7c7-18ce-413c-f3b8-b85c3c10d6e3"
      },
      "source": [
        "#GraphSAGE\n",
        "t=9\n",
        "#hadarmard\n",
        "hadarmard_edgefeature,V1 = ef_hadamard(unob_positive,average_U1,average_U1,unob_negative)\n",
        "print('AUC of hadarmard: '+str(logit_pred(hadarmard_edgefeature,V1)))\n",
        "#average\n",
        "average_edgefeature,V2 = ef_average(unob_positive,average_U1,average_U1,unob_negative)\n",
        "print('AUC of average: '+str(logit_pred(average_edgefeature,V2)))"
      ],
      "execution_count": null,
      "outputs": [
        {
          "output_type": "stream",
          "text": [
            "AUC of hadarmard: 0.6510882426604238\n",
            "AUC of average: 0.5845602381599027\n"
          ],
          "name": "stdout"
        }
      ]
    },
    {
      "cell_type": "code",
      "metadata": {
        "colab": {
          "base_uri": "https://localhost:8080/"
        },
        "id": "P9Z574sGSvdc",
        "outputId": "6482e90c-5af4-4226-b960-69a5c670994c"
      },
      "source": [
        "#GCN\n",
        "t=9\n",
        "#hadarmard\n",
        "hadarmard_edgefeature,V1 = ef_hadamard(unob_positive,average_U2,average_U2,unob_negative)\n",
        "print('AUC of hadarmard: '+str(logit_pred(hadarmard_edgefeature,V1)))\n",
        "#average\n",
        "average_edgefeature,V2 = ef_average(unob_positive,average_U2,average_U2,unob_negative)\n",
        "print('AUC of average: '+str(logit_pred(average_edgefeature,V2)))"
      ],
      "execution_count": null,
      "outputs": [
        {
          "output_type": "stream",
          "text": [
            "AUC of hadarmard: 0.7316942491984523\n",
            "AUC of average: 0.7421903442016381\n"
          ],
          "name": "stdout"
        }
      ]
    },
    {
      "cell_type": "code",
      "metadata": {
        "colab": {
          "base_uri": "https://localhost:8080/"
        },
        "id": "kFaiMNTFTB3f",
        "outputId": "d7b8c1fd-7d1b-47a3-80cf-e7e3ff22a8a1"
      },
      "source": [
        "#AIP \n",
        "x1,y1 = lanl.aip(unob_positive,X,Y,unob_negative)\n",
        "roc_auc_score(y1,x1)"
      ],
      "execution_count": null,
      "outputs": [
        {
          "output_type": "execute_result",
          "data": {
            "text/plain": [
              "0.7819699954434564"
            ]
          },
          "metadata": {},
          "execution_count": 36
        }
      ]
    },
    {
      "cell_type": "code",
      "metadata": {
        "colab": {
          "base_uri": "https://localhost:8080/"
        },
        "id": "i6iOMzMpTMKz",
        "outputId": "e38b3337-0dfd-428a-8060-3d48901a74ad"
      },
      "source": [
        "#COSIE\n",
        "x_cosie,y_cosie = lanl.cosie_average(unob_positive,hat_X,hat_Y,R_average,unob_negative)\n",
        "roc_auc_score(y_cosie,x_cosie)"
      ],
      "execution_count": null,
      "outputs": [
        {
          "output_type": "execute_result",
          "data": {
            "text/plain": [
              "0.8109769358375847"
            ]
          },
          "metadata": {},
          "execution_count": 37
        }
      ]
    },
    {
      "cell_type": "markdown",
      "metadata": {
        "id": "kySrURvqCg5b"
      },
      "source": [
        "# Daily Data\n"
      ]
    },
    {
      "cell_type": "markdown",
      "metadata": {
        "id": "nEmh63X0N6WC"
      },
      "source": [
        "## GraphSAGE"
      ]
    },
    {
      "cell_type": "code",
      "metadata": {
        "id": "Z6CG79oXCzXn"
      },
      "source": [
        "np.random.seed(11711)\n",
        "U = {}\n",
        "loss = {}\n",
        "#d=10 dimension of embedding"
      ],
      "execution_count": null,
      "outputs": []
    },
    {
      "cell_type": "code",
      "metadata": {
        "id": "wZsbA9q5CzXo"
      },
      "source": [
        "#construct graphs\n",
        "attr = pd.DataFrame(np.diag(np.ones(845)), index=list(range(845)))\n",
        "for t in range(10):\n",
        "    if t%10==0:\n",
        "      print('Graph: ' + str(t+1))\n",
        "    G = sg.StellarGraph.from_networkx(nx.from_scipy_sparse_matrix(satander_A_mat[t]),node_features=attr)\n",
        "    unsupervised_samples = UnsupervisedSampler(G, nodes=list(G.nodes()), length=10, number_of_walks=10)\n",
        "    generator = GraphSAGELinkGenerator(G, batch_size=512, num_samples=[10, 10])\n",
        "    train_gen = generator.flow(unsupervised_samples)\n",
        "    graphsage = GraphSAGE(layer_sizes=[50, 10], generator=generator, bias=True, dropout=0.0, normalize=\"l2\")\n",
        "    # Build the model and expose input and output sockets of GraphSAGE, for node pair inputs:\n",
        "    x_inp, x_out = graphsage.in_out_tensors()\n",
        "    prediction = link_classification(output_dim=1, output_act=\"sigmoid\", edge_embedding_method=\"ip\")(x_out)\n",
        "    model = keras.Model(inputs=x_inp, outputs=prediction)\n",
        "    model.compile(optimizer=keras.optimizers.Adam(learning_rate=1e-2), loss=keras.losses.binary_crossentropy, metrics=[keras.metrics.binary_accuracy])\n",
        "    history = model.fit(train_gen, epochs=1, verbose=1, use_multiprocessing=False, workers=2, shuffle=True)\n",
        "    x_inp_src = x_inp[0::2]\n",
        "    x_out_src = x_out[0]\n",
        "    embedding_model = keras.Model(inputs=x_inp_src, outputs=x_out_src)\n",
        "    node_ids = list(range(845))\n",
        "    node_gen = GraphSAGENodeGenerator(G, batch_size=512, num_samples=[10, 10]).flow(node_ids)\n",
        "    U[t], loss[t] = embedding_model.predict(node_gen, workers=2, verbose=1), history.history['loss']\n",
        "    np.save('graphsage_day'+str(t)+'.npy',U[t])\n",
        "    files.download('graphsage_day'+str(t)+'.npy')\n",
        "    \n"
      ],
      "execution_count": null,
      "outputs": []
    },
    {
      "cell_type": "markdown",
      "metadata": {
        "id": "oi2i_9peN-bn"
      },
      "source": [
        "### Upload saved latent positions"
      ]
    },
    {
      "cell_type": "code",
      "metadata": {
        "id": "h3dbXohmNb7i"
      },
      "source": [
        "#download embedding latent positions\n",
        "U3 = {}\n",
        "for t in range(7):\n",
        "  U3[t] = np.load('graphsage_day'+str(t)+'.npy')"
      ],
      "execution_count": null,
      "outputs": []
    },
    {
      "cell_type": "markdown",
      "metadata": {
        "id": "TBedAumUPJcr"
      },
      "source": [
        "### Construct Edge feature"
      ]
    },
    {
      "cell_type": "code",
      "metadata": {
        "id": "LqkT_jWqOi0B"
      },
      "source": [
        "average_U3 = lanl.average_mat(U3)"
      ],
      "execution_count": null,
      "outputs": []
    },
    {
      "cell_type": "code",
      "metadata": {
        "colab": {
          "base_uri": "https://localhost:8080/"
        },
        "id": "0ODktifQOjCf",
        "outputId": "77dcb3f2-014f-4886-ab3b-a8e82fff1e5a"
      },
      "source": [
        "#for prediction at t=6\n",
        "t=6\n",
        "#hadarmard\n",
        "hadarmard_edgefeature3,V1 = ef_hadamard(satander_counter2[t],average_U3,average_U3,satander_negative_class2[t])\n",
        "print('AUC of hadarmard: '+str(logit_pred(hadarmard_edgefeature3,V1,845,845)))\n",
        "#average\n",
        "average_edgefeature3,V2 = ef_average(satander_counter2[t],average_U3,average_U3,satander_negative_class2[t])\n",
        "print('AUC of average: '+str(logit_pred(average_edgefeature3,V2,845,845)))"
      ],
      "execution_count": null,
      "outputs": [
        {
          "output_type": "stream",
          "name": "stdout",
          "text": [
            "AUC of hadarmard: 0.7011212134365472\n",
            "AUC of average: 0.5490225099951997\n"
          ]
        }
      ]
    },
    {
      "cell_type": "markdown",
      "metadata": {
        "id": "3MjBIG5-QUvh"
      },
      "source": [
        "## GCN"
      ]
    },
    {
      "cell_type": "code",
      "metadata": {
        "colab": {
          "base_uri": "https://localhost:8080/"
        },
        "id": "bTHY_pCEQVwk",
        "outputId": "c6761eb4-157f-48b9-b6b0-5adee9f0bf0c"
      },
      "source": [
        "def run_deep_graph_infomax(base_model, G, generator, epochs, lr=1e-3):\n",
        "    ## Define generators\n",
        "    corrupted_generator = CorruptedGenerator(generator)\n",
        "    gen = corrupted_generator.flow(G.nodes())\n",
        "    infomax = DeepGraphInfomax(base_model, corrupted_generator)\n",
        "    ## Infomax\n",
        "    x_in, x_out = infomax.in_out_tensors()\n",
        "    ## Model\n",
        "    model = Model(inputs=x_in, outputs=x_out)\n",
        "    model.compile(loss=tf.nn.sigmoid_cross_entropy_with_logits, optimizer=Adam(learning_rate=lr))\n",
        "    es = EarlyStopping(monitor=\"loss\", min_delta=0, patience=20)\n",
        "    history = model.fit(gen, epochs=epochs, verbose=0, callbacks=[es])\n",
        "    ## Input-output\n",
        "    x_emb_in, x_emb_out = base_model.in_out_tensors()\n",
        "    ## For full batch models, squeeze out the batch dimension\n",
        "    if generator.num_batch_dims() == 2:\n",
        "        x_emb_out = tf.squeeze(x_emb_out, axis=0)\n",
        "    ## Embedding model and predictions\n",
        "    emb_model = Model(inputs=x_emb_in, outputs=x_emb_out)\n",
        "    U = emb_model.predict(generator.flow(G.nodes()))\n",
        "    return U, history.history['loss']\n",
        "\n",
        "U = {}\n",
        "loss = {}\n",
        "attr = pd.DataFrame(np.diag(np.ones(845)), index=list(range(845)))\n",
        "for t in range(7):\n",
        "    print('Graph: ' + str(t+1))\n",
        "    G = sg.StellarGraph.from_networkx(nx.from_scipy_sparse_matrix(satander_A_mat2[t]), node_features=attr)\n",
        "    fullbatch_generator = FullBatchNodeGenerator(G)\n",
        "    gcn_model = GCN(layer_sizes=[10], activations=[\"relu\"], generator=fullbatch_generator)\n",
        "    U[t], loss[t] = run_deep_graph_infomax(base_model=gcn_model, G=G, generator=fullbatch_generator, epochs=250, lr=1e-2)\n",
        "    np.save('gcn_day'+str(t)+'.npy',U[t])"
      ],
      "execution_count": null,
      "outputs": [
        {
          "output_type": "stream",
          "name": "stdout",
          "text": [
            "Graph: 1\n",
            "Using GCN (local pooling) filters...\n",
            "Graph: 2\n",
            "Using GCN (local pooling) filters...\n",
            "Graph: 3\n",
            "Using GCN (local pooling) filters...\n",
            "Graph: 4\n",
            "Using GCN (local pooling) filters...\n",
            "Graph: 5\n",
            "Using GCN (local pooling) filters...\n",
            "WARNING:tensorflow:5 out of the last 5 calls to <function Model.make_predict_function.<locals>.predict_function at 0x7fa2c61b9b90> triggered tf.function retracing. Tracing is expensive and the excessive number of tracings could be due to (1) creating @tf.function repeatedly in a loop, (2) passing tensors with different shapes, (3) passing Python objects instead of tensors. For (1), please define your @tf.function outside of the loop. For (2), @tf.function has experimental_relax_shapes=True option that relaxes argument shapes that can avoid unnecessary retracing. For (3), please refer to https://www.tensorflow.org/guide/function#controlling_retracing and https://www.tensorflow.org/api_docs/python/tf/function for  more details.\n",
            "Graph: 6\n",
            "Using GCN (local pooling) filters...\n",
            "WARNING:tensorflow:6 out of the last 6 calls to <function Model.make_predict_function.<locals>.predict_function at 0x7fa2c3ba9830> triggered tf.function retracing. Tracing is expensive and the excessive number of tracings could be due to (1) creating @tf.function repeatedly in a loop, (2) passing tensors with different shapes, (3) passing Python objects instead of tensors. For (1), please define your @tf.function outside of the loop. For (2), @tf.function has experimental_relax_shapes=True option that relaxes argument shapes that can avoid unnecessary retracing. For (3), please refer to https://www.tensorflow.org/guide/function#controlling_retracing and https://www.tensorflow.org/api_docs/python/tf/function for  more details.\n",
            "Graph: 7\n",
            "Using GCN (local pooling) filters...\n"
          ]
        }
      ]
    },
    {
      "cell_type": "code",
      "metadata": {
        "colab": {
          "base_uri": "https://localhost:8080/",
          "height": 17
        },
        "id": "BNyPvMm3RPsq",
        "outputId": "253b2fdf-bb1c-4b80-d143-cd7f9de65589"
      },
      "source": [
        "for t in range(7):\n",
        "  files.download('gcn_day'+str(t)+'.npy')"
      ],
      "execution_count": null,
      "outputs": [
        {
          "output_type": "display_data",
          "data": {
            "application/javascript": [
              "\n",
              "    async function download(id, filename, size) {\n",
              "      if (!google.colab.kernel.accessAllowed) {\n",
              "        return;\n",
              "      }\n",
              "      const div = document.createElement('div');\n",
              "      const label = document.createElement('label');\n",
              "      label.textContent = `Downloading \"${filename}\": `;\n",
              "      div.appendChild(label);\n",
              "      const progress = document.createElement('progress');\n",
              "      progress.max = size;\n",
              "      div.appendChild(progress);\n",
              "      document.body.appendChild(div);\n",
              "\n",
              "      const buffers = [];\n",
              "      let downloaded = 0;\n",
              "\n",
              "      const channel = await google.colab.kernel.comms.open(id);\n",
              "      // Send a message to notify the kernel that we're ready.\n",
              "      channel.send({})\n",
              "\n",
              "      for await (const message of channel.messages) {\n",
              "        // Send a message to notify the kernel that we're ready.\n",
              "        channel.send({})\n",
              "        if (message.buffers) {\n",
              "          for (const buffer of message.buffers) {\n",
              "            buffers.push(buffer);\n",
              "            downloaded += buffer.byteLength;\n",
              "            progress.value = downloaded;\n",
              "          }\n",
              "        }\n",
              "      }\n",
              "      const blob = new Blob(buffers, {type: 'application/binary'});\n",
              "      const a = document.createElement('a');\n",
              "      a.href = window.URL.createObjectURL(blob);\n",
              "      a.download = filename;\n",
              "      div.appendChild(a);\n",
              "      a.click();\n",
              "      div.remove();\n",
              "    }\n",
              "  "
            ],
            "text/plain": [
              "<IPython.core.display.Javascript object>"
            ]
          },
          "metadata": {}
        },
        {
          "output_type": "display_data",
          "data": {
            "application/javascript": [
              "download(\"download_b07269de-ef1b-4a85-95cb-cece7a6bf692\", \"gcn_day0.npy\", 33928)"
            ],
            "text/plain": [
              "<IPython.core.display.Javascript object>"
            ]
          },
          "metadata": {}
        },
        {
          "output_type": "display_data",
          "data": {
            "application/javascript": [
              "\n",
              "    async function download(id, filename, size) {\n",
              "      if (!google.colab.kernel.accessAllowed) {\n",
              "        return;\n",
              "      }\n",
              "      const div = document.createElement('div');\n",
              "      const label = document.createElement('label');\n",
              "      label.textContent = `Downloading \"${filename}\": `;\n",
              "      div.appendChild(label);\n",
              "      const progress = document.createElement('progress');\n",
              "      progress.max = size;\n",
              "      div.appendChild(progress);\n",
              "      document.body.appendChild(div);\n",
              "\n",
              "      const buffers = [];\n",
              "      let downloaded = 0;\n",
              "\n",
              "      const channel = await google.colab.kernel.comms.open(id);\n",
              "      // Send a message to notify the kernel that we're ready.\n",
              "      channel.send({})\n",
              "\n",
              "      for await (const message of channel.messages) {\n",
              "        // Send a message to notify the kernel that we're ready.\n",
              "        channel.send({})\n",
              "        if (message.buffers) {\n",
              "          for (const buffer of message.buffers) {\n",
              "            buffers.push(buffer);\n",
              "            downloaded += buffer.byteLength;\n",
              "            progress.value = downloaded;\n",
              "          }\n",
              "        }\n",
              "      }\n",
              "      const blob = new Blob(buffers, {type: 'application/binary'});\n",
              "      const a = document.createElement('a');\n",
              "      a.href = window.URL.createObjectURL(blob);\n",
              "      a.download = filename;\n",
              "      div.appendChild(a);\n",
              "      a.click();\n",
              "      div.remove();\n",
              "    }\n",
              "  "
            ],
            "text/plain": [
              "<IPython.core.display.Javascript object>"
            ]
          },
          "metadata": {}
        },
        {
          "output_type": "display_data",
          "data": {
            "application/javascript": [
              "download(\"download_03e84050-0dd0-488d-ae71-b5b9307a6afb\", \"gcn_day1.npy\", 33928)"
            ],
            "text/plain": [
              "<IPython.core.display.Javascript object>"
            ]
          },
          "metadata": {}
        },
        {
          "output_type": "display_data",
          "data": {
            "application/javascript": [
              "\n",
              "    async function download(id, filename, size) {\n",
              "      if (!google.colab.kernel.accessAllowed) {\n",
              "        return;\n",
              "      }\n",
              "      const div = document.createElement('div');\n",
              "      const label = document.createElement('label');\n",
              "      label.textContent = `Downloading \"${filename}\": `;\n",
              "      div.appendChild(label);\n",
              "      const progress = document.createElement('progress');\n",
              "      progress.max = size;\n",
              "      div.appendChild(progress);\n",
              "      document.body.appendChild(div);\n",
              "\n",
              "      const buffers = [];\n",
              "      let downloaded = 0;\n",
              "\n",
              "      const channel = await google.colab.kernel.comms.open(id);\n",
              "      // Send a message to notify the kernel that we're ready.\n",
              "      channel.send({})\n",
              "\n",
              "      for await (const message of channel.messages) {\n",
              "        // Send a message to notify the kernel that we're ready.\n",
              "        channel.send({})\n",
              "        if (message.buffers) {\n",
              "          for (const buffer of message.buffers) {\n",
              "            buffers.push(buffer);\n",
              "            downloaded += buffer.byteLength;\n",
              "            progress.value = downloaded;\n",
              "          }\n",
              "        }\n",
              "      }\n",
              "      const blob = new Blob(buffers, {type: 'application/binary'});\n",
              "      const a = document.createElement('a');\n",
              "      a.href = window.URL.createObjectURL(blob);\n",
              "      a.download = filename;\n",
              "      div.appendChild(a);\n",
              "      a.click();\n",
              "      div.remove();\n",
              "    }\n",
              "  "
            ],
            "text/plain": [
              "<IPython.core.display.Javascript object>"
            ]
          },
          "metadata": {}
        },
        {
          "output_type": "display_data",
          "data": {
            "application/javascript": [
              "download(\"download_93eeb78b-f298-4b65-a27c-be3c9c24b4a4\", \"gcn_day2.npy\", 33928)"
            ],
            "text/plain": [
              "<IPython.core.display.Javascript object>"
            ]
          },
          "metadata": {}
        },
        {
          "output_type": "display_data",
          "data": {
            "application/javascript": [
              "\n",
              "    async function download(id, filename, size) {\n",
              "      if (!google.colab.kernel.accessAllowed) {\n",
              "        return;\n",
              "      }\n",
              "      const div = document.createElement('div');\n",
              "      const label = document.createElement('label');\n",
              "      label.textContent = `Downloading \"${filename}\": `;\n",
              "      div.appendChild(label);\n",
              "      const progress = document.createElement('progress');\n",
              "      progress.max = size;\n",
              "      div.appendChild(progress);\n",
              "      document.body.appendChild(div);\n",
              "\n",
              "      const buffers = [];\n",
              "      let downloaded = 0;\n",
              "\n",
              "      const channel = await google.colab.kernel.comms.open(id);\n",
              "      // Send a message to notify the kernel that we're ready.\n",
              "      channel.send({})\n",
              "\n",
              "      for await (const message of channel.messages) {\n",
              "        // Send a message to notify the kernel that we're ready.\n",
              "        channel.send({})\n",
              "        if (message.buffers) {\n",
              "          for (const buffer of message.buffers) {\n",
              "            buffers.push(buffer);\n",
              "            downloaded += buffer.byteLength;\n",
              "            progress.value = downloaded;\n",
              "          }\n",
              "        }\n",
              "      }\n",
              "      const blob = new Blob(buffers, {type: 'application/binary'});\n",
              "      const a = document.createElement('a');\n",
              "      a.href = window.URL.createObjectURL(blob);\n",
              "      a.download = filename;\n",
              "      div.appendChild(a);\n",
              "      a.click();\n",
              "      div.remove();\n",
              "    }\n",
              "  "
            ],
            "text/plain": [
              "<IPython.core.display.Javascript object>"
            ]
          },
          "metadata": {}
        },
        {
          "output_type": "display_data",
          "data": {
            "application/javascript": [
              "download(\"download_583895c1-a219-4729-a09e-c44052179a2c\", \"gcn_day3.npy\", 33928)"
            ],
            "text/plain": [
              "<IPython.core.display.Javascript object>"
            ]
          },
          "metadata": {}
        },
        {
          "output_type": "display_data",
          "data": {
            "application/javascript": [
              "\n",
              "    async function download(id, filename, size) {\n",
              "      if (!google.colab.kernel.accessAllowed) {\n",
              "        return;\n",
              "      }\n",
              "      const div = document.createElement('div');\n",
              "      const label = document.createElement('label');\n",
              "      label.textContent = `Downloading \"${filename}\": `;\n",
              "      div.appendChild(label);\n",
              "      const progress = document.createElement('progress');\n",
              "      progress.max = size;\n",
              "      div.appendChild(progress);\n",
              "      document.body.appendChild(div);\n",
              "\n",
              "      const buffers = [];\n",
              "      let downloaded = 0;\n",
              "\n",
              "      const channel = await google.colab.kernel.comms.open(id);\n",
              "      // Send a message to notify the kernel that we're ready.\n",
              "      channel.send({})\n",
              "\n",
              "      for await (const message of channel.messages) {\n",
              "        // Send a message to notify the kernel that we're ready.\n",
              "        channel.send({})\n",
              "        if (message.buffers) {\n",
              "          for (const buffer of message.buffers) {\n",
              "            buffers.push(buffer);\n",
              "            downloaded += buffer.byteLength;\n",
              "            progress.value = downloaded;\n",
              "          }\n",
              "        }\n",
              "      }\n",
              "      const blob = new Blob(buffers, {type: 'application/binary'});\n",
              "      const a = document.createElement('a');\n",
              "      a.href = window.URL.createObjectURL(blob);\n",
              "      a.download = filename;\n",
              "      div.appendChild(a);\n",
              "      a.click();\n",
              "      div.remove();\n",
              "    }\n",
              "  "
            ],
            "text/plain": [
              "<IPython.core.display.Javascript object>"
            ]
          },
          "metadata": {}
        },
        {
          "output_type": "display_data",
          "data": {
            "application/javascript": [
              "download(\"download_32578784-42ae-40c8-b5fd-207a078aaf66\", \"gcn_day4.npy\", 33928)"
            ],
            "text/plain": [
              "<IPython.core.display.Javascript object>"
            ]
          },
          "metadata": {}
        },
        {
          "output_type": "display_data",
          "data": {
            "application/javascript": [
              "\n",
              "    async function download(id, filename, size) {\n",
              "      if (!google.colab.kernel.accessAllowed) {\n",
              "        return;\n",
              "      }\n",
              "      const div = document.createElement('div');\n",
              "      const label = document.createElement('label');\n",
              "      label.textContent = `Downloading \"${filename}\": `;\n",
              "      div.appendChild(label);\n",
              "      const progress = document.createElement('progress');\n",
              "      progress.max = size;\n",
              "      div.appendChild(progress);\n",
              "      document.body.appendChild(div);\n",
              "\n",
              "      const buffers = [];\n",
              "      let downloaded = 0;\n",
              "\n",
              "      const channel = await google.colab.kernel.comms.open(id);\n",
              "      // Send a message to notify the kernel that we're ready.\n",
              "      channel.send({})\n",
              "\n",
              "      for await (const message of channel.messages) {\n",
              "        // Send a message to notify the kernel that we're ready.\n",
              "        channel.send({})\n",
              "        if (message.buffers) {\n",
              "          for (const buffer of message.buffers) {\n",
              "            buffers.push(buffer);\n",
              "            downloaded += buffer.byteLength;\n",
              "            progress.value = downloaded;\n",
              "          }\n",
              "        }\n",
              "      }\n",
              "      const blob = new Blob(buffers, {type: 'application/binary'});\n",
              "      const a = document.createElement('a');\n",
              "      a.href = window.URL.createObjectURL(blob);\n",
              "      a.download = filename;\n",
              "      div.appendChild(a);\n",
              "      a.click();\n",
              "      div.remove();\n",
              "    }\n",
              "  "
            ],
            "text/plain": [
              "<IPython.core.display.Javascript object>"
            ]
          },
          "metadata": {}
        },
        {
          "output_type": "display_data",
          "data": {
            "application/javascript": [
              "download(\"download_7112fab6-1ca8-4b29-91bc-1d349d71fcda\", \"gcn_day5.npy\", 33928)"
            ],
            "text/plain": [
              "<IPython.core.display.Javascript object>"
            ]
          },
          "metadata": {}
        },
        {
          "output_type": "display_data",
          "data": {
            "application/javascript": [
              "\n",
              "    async function download(id, filename, size) {\n",
              "      if (!google.colab.kernel.accessAllowed) {\n",
              "        return;\n",
              "      }\n",
              "      const div = document.createElement('div');\n",
              "      const label = document.createElement('label');\n",
              "      label.textContent = `Downloading \"${filename}\": `;\n",
              "      div.appendChild(label);\n",
              "      const progress = document.createElement('progress');\n",
              "      progress.max = size;\n",
              "      div.appendChild(progress);\n",
              "      document.body.appendChild(div);\n",
              "\n",
              "      const buffers = [];\n",
              "      let downloaded = 0;\n",
              "\n",
              "      const channel = await google.colab.kernel.comms.open(id);\n",
              "      // Send a message to notify the kernel that we're ready.\n",
              "      channel.send({})\n",
              "\n",
              "      for await (const message of channel.messages) {\n",
              "        // Send a message to notify the kernel that we're ready.\n",
              "        channel.send({})\n",
              "        if (message.buffers) {\n",
              "          for (const buffer of message.buffers) {\n",
              "            buffers.push(buffer);\n",
              "            downloaded += buffer.byteLength;\n",
              "            progress.value = downloaded;\n",
              "          }\n",
              "        }\n",
              "      }\n",
              "      const blob = new Blob(buffers, {type: 'application/binary'});\n",
              "      const a = document.createElement('a');\n",
              "      a.href = window.URL.createObjectURL(blob);\n",
              "      a.download = filename;\n",
              "      div.appendChild(a);\n",
              "      a.click();\n",
              "      div.remove();\n",
              "    }\n",
              "  "
            ],
            "text/plain": [
              "<IPython.core.display.Javascript object>"
            ]
          },
          "metadata": {}
        },
        {
          "output_type": "display_data",
          "data": {
            "application/javascript": [
              "download(\"download_88cb8a78-1f75-4107-96dd-5d321ae4ce76\", \"gcn_day6.npy\", 33928)"
            ],
            "text/plain": [
              "<IPython.core.display.Javascript object>"
            ]
          },
          "metadata": {}
        }
      ]
    },
    {
      "cell_type": "markdown",
      "metadata": {
        "id": "A9idAQZ-RD5a"
      },
      "source": [
        "### Upload saved latent positon"
      ]
    },
    {
      "cell_type": "code",
      "metadata": {
        "id": "61M2ny0NRFrI"
      },
      "source": [
        "#download embedding latent positions\n",
        "U4 = {}\n",
        "for t in range(7):\n",
        "  U4[t] = np.load('gcn_day'+str(t)+'.npy')"
      ],
      "execution_count": null,
      "outputs": []
    },
    {
      "cell_type": "markdown",
      "metadata": {
        "id": "lFnT1bwzRagX"
      },
      "source": [
        "### Construct Edge feature"
      ]
    },
    {
      "cell_type": "code",
      "metadata": {
        "id": "JGlEDveiRagX"
      },
      "source": [
        "average_U4 = lanl.average_mat(U4)"
      ],
      "execution_count": null,
      "outputs": []
    },
    {
      "cell_type": "code",
      "metadata": {
        "colab": {
          "base_uri": "https://localhost:8080/"
        },
        "id": "_5YBAU7oRagX",
        "outputId": "a2a7b8e4-4d56-4202-bb55-d7ad373b0b39"
      },
      "source": [
        "#for prediction at t=6\n",
        "t=6\n",
        "#hadarmard\n",
        "hadarmard_edgefeature3,V1 = ef_hadamard(satander_counter2[t],average_U4,average_U4,satander_negative_class2[t])\n",
        "print('AUC of hadarmard: '+str(logit_pred(hadarmard_edgefeature3,V1,845,845)))\n",
        "#average\n",
        "average_edgefeature3,V2 = ef_average(satander_counter2[t],average_U4,average_U4,satander_negative_class2[t])\n",
        "print('AUC of average: '+str(logit_pred(average_edgefeature3,V2,845,845)))"
      ],
      "execution_count": null,
      "outputs": [
        {
          "output_type": "stream",
          "name": "stdout",
          "text": [
            "AUC of hadarmard: 0.7429587567122157\n",
            "AUC of average: 0.6415701727435268\n"
          ]
        }
      ]
    },
    {
      "cell_type": "markdown",
      "metadata": {
        "id": "8iCXIXBiR9DJ"
      },
      "source": [
        "## Spectral embedding"
      ]
    },
    {
      "cell_type": "code",
      "metadata": {
        "colab": {
          "base_uri": "https://localhost:8080/"
        },
        "id": "ZgeFOLJsSBwT",
        "outputId": "2d7ed5aa-d21a-4fab-e0aa-ebc38794d470"
      },
      "source": [
        "#AIP\n",
        "X2 = {}\n",
        "Y2 = {}\n",
        "for t in range(9):\n",
        "    X_t,Y_t = lanl.dase(satander_A_mat2[t],d=10)\n",
        "    X2[t] = X_t\n",
        "    Y2[t] = Y_t\n",
        "\n",
        "x12,y12 = lanl.aip(satander_counter2[t],X2,Y2,satander_negative_class2[t])\n",
        "print('AUC of AIP: '+str(roc_auc_score(y12,x12)))"
      ],
      "execution_count": null,
      "outputs": [
        {
          "output_type": "stream",
          "name": "stdout",
          "text": [
            "AUC of AIP: 0.8776315248539432\n"
          ]
        }
      ]
    },
    {
      "cell_type": "code",
      "metadata": {
        "colab": {
          "base_uri": "https://localhost:8080/"
        },
        "id": "T9b1rjIxSBwU",
        "outputId": "afeb0cbb-fe9b-4c8b-de31-6144170c8e66"
      },
      "source": [
        "#COSIE\n",
        "hat_X2,hat_Y2,R2 = lanl.mase_direct(satander_A_mat2,10)\n",
        "\n",
        "#compute R_average\n",
        "R_average2 = lanl.average_mat(R2,0,5)\n",
        "\n",
        "x_cosie2,y_cosie2 = lanl.cosie_average(satander_counter2[t],hat_X2,hat_Y2,R_average2,satander_negative_class2[t])\n",
        "print('AUC of AIP: '+str(roc_auc_score(y_cosie2,x_cosie2)))"
      ],
      "execution_count": null,
      "outputs": [
        {
          "output_type": "stream",
          "name": "stdout",
          "text": [
            "AUC of AIP: 0.8787644318136478\n"
          ]
        }
      ]
    },
    {
      "cell_type": "markdown",
      "metadata": {
        "id": "aOh83SUsYc-B"
      },
      "source": [
        "## New link prediction"
      ]
    },
    {
      "cell_type": "code",
      "metadata": {
        "id": "LUIMwS0AYhbH"
      },
      "source": [
        "A_observed2 = {}\n",
        "for t in range(6):\n",
        "  A_observed2[t] = satander_counter2[t]\n",
        "A_pred2 = satander_counter2[6]"
      ],
      "execution_count": null,
      "outputs": []
    },
    {
      "cell_type": "code",
      "metadata": {
        "id": "sEQDZTS9Yuo5"
      },
      "source": [
        "unob_positive,unob_negative = unobserved_subset(A_observed2,A_pred2)"
      ],
      "execution_count": null,
      "outputs": []
    },
    {
      "cell_type": "code",
      "metadata": {
        "colab": {
          "base_uri": "https://localhost:8080/"
        },
        "id": "HZoM4VWiYuo9",
        "outputId": "a0663a64-e8e4-4bba-9b76-7e674afc10d2"
      },
      "source": [
        "#GraphSAGE\n",
        "t=9\n",
        "#hadarmard\n",
        "hadarmard_edgefeature,V1 = ef_hadamard(unob_positive,average_U3,average_U3,unob_negative)\n",
        "print('AUC of hadarmard: '+str(logit_pred(hadarmard_edgefeature,V1)))\n",
        "#average\n",
        "average_edgefeature,V2 = ef_average(unob_positive,average_U3,average_U3,unob_negative)\n",
        "print('AUC of average: '+str(logit_pred(average_edgefeature,V2)))"
      ],
      "execution_count": null,
      "outputs": [
        {
          "output_type": "stream",
          "name": "stdout",
          "text": [
            "AUC of hadarmard: 0.7064379145439594\n",
            "AUC of average: 0.5498350371513171\n"
          ]
        }
      ]
    },
    {
      "cell_type": "code",
      "metadata": {
        "colab": {
          "base_uri": "https://localhost:8080/"
        },
        "id": "z7aODNizYuo-",
        "outputId": "587e4c9a-2937-49ca-8cb6-21517f630737"
      },
      "source": [
        "#GCN\n",
        "t=9\n",
        "#hadarmard\n",
        "hadarmard_edgefeature,V1 = ef_hadamard(unob_positive,average_U4,average_U4,unob_negative)\n",
        "print('AUC of hadarmard: '+str(logit_pred(hadarmard_edgefeature,V1)))\n",
        "#average\n",
        "average_edgefeature,V2 = ef_average(unob_positive,average_U4,average_U4,unob_negative)\n",
        "print('AUC of average: '+str(logit_pred(average_edgefeature,V2)))"
      ],
      "execution_count": null,
      "outputs": [
        {
          "output_type": "stream",
          "name": "stdout",
          "text": [
            "AUC of hadarmard: 0.716190669442431\n",
            "AUC of average: 0.6251627776719751\n"
          ]
        }
      ]
    },
    {
      "cell_type": "code",
      "metadata": {
        "colab": {
          "base_uri": "https://localhost:8080/"
        },
        "id": "Koe11p_QYuo-",
        "outputId": "d6d2a87c-d41c-4f72-8da5-15082f3b0b7a"
      },
      "source": [
        "#AIP \n",
        "x1,y1 = lanl.aip(unob_positive,X2,Y2,unob_negative)\n",
        "roc_auc_score(y1,x1)"
      ],
      "execution_count": null,
      "outputs": [
        {
          "output_type": "execute_result",
          "data": {
            "text/plain": [
              "0.8724847106887578"
            ]
          },
          "metadata": {},
          "execution_count": 34
        }
      ]
    },
    {
      "cell_type": "code",
      "metadata": {
        "colab": {
          "base_uri": "https://localhost:8080/"
        },
        "id": "jrHqj8FKYuo-",
        "outputId": "b65c2276-b040-4e28-8f1d-ddd7f892670d"
      },
      "source": [
        "#COSIE\n",
        "x_cosie,y_cosie = lanl.cosie_average(unob_positive,hat_X2,hat_Y2,R_average2,unob_negative)\n",
        "roc_auc_score(y_cosie,x_cosie)"
      ],
      "execution_count": null,
      "outputs": [
        {
          "output_type": "execute_result",
          "data": {
            "text/plain": [
              "0.8832195071699942"
            ]
          },
          "metadata": {},
          "execution_count": 35
        }
      ]
    }
  ]
}